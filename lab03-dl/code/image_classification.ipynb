{
 "cells": [
  {
   "cell_type": "markdown",
   "metadata": {},
   "source": [
    "# Image Classification with PyTorch"
   ]
  },
  {
   "cell_type": "markdown",
   "metadata": {},
   "source": [
    "## Data loading\n"
   ]
  },
  {
   "cell_type": "code",
   "execution_count": 1,
   "metadata": {},
   "outputs": [
    {
     "name": "stderr",
     "output_type": "stream",
     "text": [
      "/home/cetaceanw/.local/lib/python3.8/site-packages/tqdm/auto.py:22: TqdmWarning: IProgress not found. Please update jupyter and ipywidgets. See https://ipywidgets.readthedocs.io/en/stable/user_install.html\n",
      "  from .autonotebook import tqdm as notebook_tqdm\n"
     ]
    }
   ],
   "source": [
    "import numpy as np\n",
    "import matplotlib.pyplot as plt\n",
    "\n",
    "import torch\n",
    "import torch.nn as nn\n",
    "import torch.nn.functional as F\n",
    "import torch.optim as optim\n",
    "from torch.utils.data import DataLoader\n",
    "import torchvision\n",
    "from torchvision import datasets, transforms"
   ]
  },
  {
   "cell_type": "code",
   "execution_count": 2,
   "metadata": {},
   "outputs": [],
   "source": [
    "# torchvision contains convinience functions for popular datasets\n",
    "ds_train = datasets.MNIST('data', train=True, download=True)"
   ]
  },
  {
   "cell_type": "markdown",
   "metadata": {},
   "source": [
    "Each sample is a 28x28 image"
   ]
  },
  {
   "cell_type": "code",
   "execution_count": 3,
   "metadata": {},
   "outputs": [
    {
     "name": "stdout",
     "output_type": "stream",
     "text": [
      "(<PIL.Image.Image image mode=L size=28x28 at 0x7F508C10D8B0>, 5)\n"
     ]
    },
    {
     "data": {
      "image/png": "[encoded data removed]",
      "text/plain": [
       "<PIL.Image.Image image mode=L size=120x120 at 0x7F508C10D220>"
      ]
     },
     "execution_count": 3,
     "metadata": {},
     "output_type": "execute_result"
    }
   ],
   "source": [
    "# if we index this dataset, we get a single data point: a PIL image and an Integer\n",
    "print(ds_train[0])\n",
    "ds_train[0][0].resize((120,120))"
   ]
  },
  {
   "cell_type": "markdown",
   "metadata": {},
   "source": [
    "Let's transform the data to something that our Pytorch models will understand\n",
    "for this purpose, we can supply a transform function to the datase"
   ]
  },
  {
   "cell_type": "code",
   "execution_count": 4,
   "metadata": {},
   "outputs": [],
   "source": [
    "transform = transforms.Compose([\n",
    "    transforms.ToTensor(),\n",
    "])\n",
    "ds_train = datasets.MNIST('data', train=True, download=True, transform=transform)"
   ]
  },
  {
   "cell_type": "markdown",
   "metadata": {},
   "source": [
    "The image is now a `torch.Tensor`"
   ]
  },
  {
   "cell_type": "code",
   "execution_count": 5,
   "metadata": {},
   "outputs": [
    {
     "data": {
      "text/plain": [
       "torch.Tensor"
      ]
     },
     "execution_count": 5,
     "metadata": {},
     "output_type": "execute_result"
    }
   ],
   "source": [
    "type(ds_train[0][0])"
   ]
  },
  {
   "cell_type": "markdown",
   "metadata": {},
   "source": [
    "The normalization is something you learned about in the lecture. Normalizing with $\\mu=0, \\sigma=1$ corresponds to no normalization. Let's compute the proper normalization constants!"
   ]
  },
  {
   "cell_type": "code",
   "execution_count": 6,
   "metadata": {},
   "outputs": [],
   "source": [
    "# lets get only the images \n",
    "ims_train = ds_train.data\n",
    "ims_train = ims_train.float() / 255."
   ]
  },
  {
   "cell_type": "code",
   "execution_count": null,
   "metadata": {},
   "outputs": [],
   "source": []
  },
  {
   "cell_type": "code",
   "execution_count": 7,
   "metadata": {},
   "outputs": [],
   "source": [
    "#########################################################################\n",
    "# TODO: calculate the mean and std of MNIST images\n",
    "# hint: to look for operations on pytorch tensor, refer to the official PyTorch docs \n",
    "# https://pytorch.org/docs/stable/\n",
    "#########################################################################\n",
    "mu = ims_train.mean()\n",
    "std = ims_train.std()"
   ]
  },
  {
   "cell_type": "markdown",
   "metadata": {},
   "source": [
    "We normalize the data as below."
   ]
  },
  {
   "cell_type": "code",
   "execution_count": 8,
   "metadata": {},
   "outputs": [],
   "source": [
    "transform = transforms.Compose([\n",
    "    transforms.ToTensor(),\n",
    "    transforms.Normalize(mu, std)\n",
    "])\n",
    "ds_train = datasets.MNIST('data', train=True, download=True, transform=transform)\n",
    "ds_test = datasets.MNIST('data', train=False, download=True, transform=transform)"
   ]
  },
  {
   "cell_type": "code",
   "execution_count": 9,
   "metadata": {},
   "outputs": [
    {
     "data": {
      "text/plain": [
       "(tensor(-0.4241), tensor(2.8215))"
      ]
     },
     "execution_count": 9,
     "metadata": {},
     "output_type": "execute_result"
    }
   ],
   "source": [
    "ds_train[0][0].min(), ds_train[0][0].max()"
   ]
  },
  {
   "cell_type": "markdown",
   "metadata": {},
   "source": [
    "Next, we want to receive mini-batches, not only single data points.\n",
    "We use PyTorch's DataLoader class. Build a dataloader with a batch size of 64 and 4 workers (number of subprocess that peform the dataloading). Important: you need to shuffle the training data, not the test data.\n",
    "\n",
    "**NOTE**: if you encounter some unexpected errors in data loading, try setting `NUM_WORKERS = 0`"
   ]
  },
  {
   "cell_type": "code",
   "execution_count": 10,
   "metadata": {},
   "outputs": [],
   "source": [
    "BATCH_SIZE = 64\n",
    "NUM_WORKERS = 4\n",
    "#########################################################################\n",
    "# TODO: Build a dataloader for both train and test data.\n",
    "#########################################################################\n",
    "dl_train = DataLoader(dataset=ds_train, batch_size=64, num_workers=4, shuffle=True)\n",
    "dl_test = DataLoader(dataset=ds_test, batch_size=64, num_workers=4)"
   ]
  },
  {
   "cell_type": "code",
   "execution_count": 11,
   "metadata": {},
   "outputs": [
    {
     "data": {
      "text/plain": [
       "Dataset MNIST\n",
       "    Number of datapoints: 60000\n",
       "    Root location: data\n",
       "    Split: Train\n",
       "    StandardTransform\n",
       "Transform: Compose(\n",
       "               ToTensor()\n",
       "               Normalize(mean=0.13066047430038452, std=0.30810782313346863)\n",
       "           )"
      ]
     },
     "execution_count": 11,
     "metadata": {},
     "output_type": "execute_result"
    }
   ],
   "source": [
    "dl_train.dataset"
   ]
  },
  {
   "cell_type": "markdown",
   "metadata": {},
   "source": [
    "## MLP in Pytorch\n",
    "\n",
    "Ok, the dataloading works. Let's build our model, PyTorch makes this very easy. We will build replicate the model from our last exercises. However, now, we add another variable called `nLayer` that indicates how many linear layers that in your network. Please adapt your code from last exercise accordingly to allow different number of layers."
   ]
  },
  {
   "cell_type": "code",
   "execution_count": 12,
   "metadata": {},
   "outputs": [],
   "source": [
    "# These are the parameters to be used\n",
    "nInput = 784\n",
    "nOutput = 10\n",
    "nLayer = 2\n",
    "nHidden = 16\n",
    "act_fn = nn.ReLU()"
   ]
  },
  {
   "cell_type": "code",
   "execution_count": 13,
   "metadata": {},
   "outputs": [],
   "source": [
    "#########################################################################\n",
    "# TODO: Implement the __init__ of the MLP class. \n",
    "# insert the activation after every linear layer. Important: the number of \n",
    "# hidden layers should be variable!\n",
    "#########################################################################\n",
    "\n",
    "class MLP(nn.Module):\n",
    "    def __init__(self, nInput, nOutput, nLayer, nHidden, act_fn):\n",
    "        super(MLP, self).__init__()\n",
    "        layers = [] \n",
    "        \n",
    "        ##### implement this part #####\n",
    "        layers.append(nn.Linear(nInput, nHidden))\n",
    "        layers.append(act_fn)\n",
    "        if nLayer > 2:\n",
    "            for i in range(nLayer - 2):\n",
    "                layers.append(nn.Linear(nHidden, nHidden))\n",
    "                layers.append(act_fn)\n",
    "        layers.append(nn.Linear(nHidden,nOutput))\n",
    "        \n",
    "        ###############################\n",
    "        \n",
    "        self.model = nn.Sequential(*layers)\n",
    "\n",
    "    def forward(self, x):\n",
    "        x = torch.flatten(x, 1)\n",
    "        return self.model(x)"
   ]
  },
  {
   "cell_type": "code",
   "execution_count": 14,
   "metadata": {
    "scrolled": true
   },
   "outputs": [
    {
     "data": {
      "text/plain": [
       "torch.Size([1, 10])"
      ]
     },
     "execution_count": 14,
     "metadata": {},
     "output_type": "execute_result"
    }
   ],
   "source": [
    "# Let's test if the forward pass works\n",
    "# this should print torch.Size([1, 10])\n",
    "t = torch.randn(1,1,28,28)\n",
    "mlp = MLP(nInput, nOutput, nLayer, nHidden, act_fn)\n",
    "mlp(t).shape"
   ]
  },
  {
   "cell_type": "code",
   "execution_count": 15,
   "metadata": {},
   "outputs": [
    {
     "data": {
      "text/plain": [
       "MLP(\n",
       "  (model): Sequential(\n",
       "    (0): Linear(in_features=784, out_features=16, bias=True)\n",
       "    (1): ReLU()\n",
       "    (2): Linear(in_features=16, out_features=10, bias=True)\n",
       "  )\n",
       ")"
      ]
     },
     "execution_count": 15,
     "metadata": {},
     "output_type": "execute_result"
    }
   ],
   "source": [
    "mlp"
   ]
  },
  {
   "cell_type": "markdown",
   "metadata": {},
   "source": [
    "We already implemented the test function for you"
   ]
  },
  {
   "cell_type": "code",
   "execution_count": 16,
   "metadata": {},
   "outputs": [],
   "source": [
    "def test(model, dl_test, device='cpu'):\n",
    "    model.eval()\n",
    "    test_loss = 0\n",
    "    correct = 0\n",
    "    with torch.no_grad():\n",
    "        for data, target in dl_test:\n",
    "            data, target = data.to(device), target.to(device)\n",
    "            output = model(data)\n",
    "            test_loss += F.cross_entropy(output, target, reduction='sum').item()  # sum up batch loss\n",
    "            pred = output.argmax(dim=1, keepdim=True)  # get the index of the max log-probability\n",
    "            correct += pred.eq(target.view_as(pred)).sum().item()\n",
    "\n",
    "    test_loss /= len(dl_test.dataset)\n",
    "\n",
    "    print('\\nTest set: Average loss: {:.4f}, Accuracy: {}/{} ({:.3f}%)\\n'.format(\n",
    "        test_loss, correct, len(dl_test.dataset),\n",
    "        100. * correct / len(dl_test.dataset)))"
   ]
  },
  {
   "cell_type": "markdown",
   "metadata": {},
   "source": [
    "Now you only need to implement the training and you are good to go"
   ]
  },
  {
   "cell_type": "code",
   "execution_count": 17,
   "metadata": {},
   "outputs": [],
   "source": [
    "#########################################################################\n",
    "# TODO: Implement the missing part of the training function. As a loss function we want to use cross entropy\n",
    "# It can be called with F.cross_entropy().\n",
    "# Hint: Pass through the model -> Backpropagate gradients -> Take gradient step\n",
    "#########################################################################\n",
    "\n",
    "def train(model, dl_train, optimizer, epoch, log_interval=100, device='cpu'):\n",
    "    model.train()\n",
    "    correct = 0\n",
    "    loss_sum = 0\n",
    "    for batch_idx, (data, target) in enumerate(dl_train):\n",
    "        data, target = data.to(device), target.to(device)\n",
    "        \n",
    "        # first we need to zero the gradient, otherwise PyTorch would accumulate them\n",
    "        optimizer.zero_grad()         \n",
    "        \n",
    "        ##### implement this part #####\n",
    "\n",
    "        # Forward\n",
    "        output = model(data)\n",
    "        loss = F.cross_entropy(output, target, reduction='sum')\n",
    "\n",
    "        # Backward\n",
    "        loss.backward()\n",
    "        optimizer.step()\n",
    "        \n",
    "        ###############################\n",
    "\n",
    "        # stats\n",
    "        pred = output.argmax(dim=1, keepdim=True)  # get the index of the max log-probability\n",
    "        correct += pred.eq(target.view_as(pred)).sum().item()\n",
    "        loss_sum += loss\n",
    "\n",
    "        if batch_idx % log_interval == 0:\n",
    "            print('Train Epoch: {} [{}/{} ({:.0f}%)]\\tLoss: {:.6f}'.format(\n",
    "                epoch, batch_idx * len(data), len(dl_train.dataset),\n",
    "                100. * batch_idx / len(dl_train), loss.item()))\n",
    "\n",
    "    loss = loss_sum/len(dl_train.dataset)\n",
    "    print('\\nTrain set: Average loss: {:.4f}, Accuracy: {}/{} ({:.1f}%)\\n'.format(\n",
    "        loss, correct, len(dl_train.dataset),\n",
    "        100. * correct / len(dl_train.dataset)))"
   ]
  },
  {
   "cell_type": "markdown",
   "metadata": {},
   "source": [
    "Ok, the setup is almost done. The onoly missing part is the optimizer. We are going to use Adam."
   ]
  },
  {
   "cell_type": "code",
   "execution_count": 18,
   "metadata": {},
   "outputs": [],
   "source": [
    "# reinitialize the mlp, so we can play with parameters right here\n",
    "mlp = MLP(nInput, nOutput, nLayer, nHidden, act_fn)\n",
    "optimizer = optim.Adam(mlp.parameters())"
   ]
  },
  {
   "cell_type": "code",
   "execution_count": 19,
   "metadata": {
    "scrolled": true
   },
   "outputs": [
    {
     "name": "stdout",
     "output_type": "stream",
     "text": [
      "Train Epoch: 1 [0/60000 (0%)]\tLoss: 145.889908\n",
      "Train Epoch: 1 [6400/60000 (11%)]\tLoss: 31.740105\n",
      "Train Epoch: 1 [12800/60000 (21%)]\tLoss: 27.903175\n",
      "Train Epoch: 1 [19200/60000 (32%)]\tLoss: 19.456249\n",
      "Train Epoch: 1 [25600/60000 (43%)]\tLoss: 30.129791\n",
      "Train Epoch: 1 [32000/60000 (53%)]\tLoss: 25.977324\n",
      "Train Epoch: 1 [38400/60000 (64%)]\tLoss: 16.119801\n",
      "Train Epoch: 1 [44800/60000 (75%)]\tLoss: 23.305313\n",
      "Train Epoch: 1 [51200/60000 (85%)]\tLoss: 13.545716\n",
      "Train Epoch: 1 [57600/60000 (96%)]\tLoss: 22.698252\n",
      "\n",
      "Train set: Average loss: 0.4005, Accuracy: 53176/60000 (88.6%)\n",
      "\n",
      "\n",
      "Test set: Average loss: 0.2558, Accuracy: 9243/10000 (92.430%)\n",
      "\n",
      "Train Epoch: 2 [0/60000 (0%)]\tLoss: 19.234003\n",
      "Train Epoch: 2 [6400/60000 (11%)]\tLoss: 19.576126\n",
      "Train Epoch: 2 [12800/60000 (21%)]\tLoss: 14.549937\n",
      "Train Epoch: 2 [19200/60000 (32%)]\tLoss: 19.688242\n",
      "Train Epoch: 2 [25600/60000 (43%)]\tLoss: 16.974928\n",
      "Train Epoch: 2 [32000/60000 (53%)]\tLoss: 8.607238\n",
      "Train Epoch: 2 [38400/60000 (64%)]\tLoss: 12.866785\n",
      "Train Epoch: 2 [44800/60000 (75%)]\tLoss: 8.852793\n",
      "Train Epoch: 2 [51200/60000 (85%)]\tLoss: 13.518838\n",
      "Train Epoch: 2 [57600/60000 (96%)]\tLoss: 14.039802\n",
      "\n",
      "Train set: Average loss: 0.2377, Accuracy: 55899/60000 (93.2%)\n",
      "\n",
      "\n",
      "Test set: Average loss: 0.2188, Accuracy: 9355/10000 (93.550%)\n",
      "\n",
      "Train Epoch: 3 [0/60000 (0%)]\tLoss: 24.665874\n",
      "Train Epoch: 3 [6400/60000 (11%)]\tLoss: 13.531323\n",
      "Train Epoch: 3 [12800/60000 (21%)]\tLoss: 23.531319\n",
      "Train Epoch: 3 [19200/60000 (32%)]\tLoss: 19.726339\n",
      "Train Epoch: 3 [25600/60000 (43%)]\tLoss: 6.627985\n",
      "Train Epoch: 3 [32000/60000 (53%)]\tLoss: 9.004663\n",
      "Train Epoch: 3 [38400/60000 (64%)]\tLoss: 6.866672\n",
      "Train Epoch: 3 [44800/60000 (75%)]\tLoss: 2.934487\n",
      "Train Epoch: 3 [51200/60000 (85%)]\tLoss: 16.215752\n",
      "Train Epoch: 3 [57600/60000 (96%)]\tLoss: 13.963694\n",
      "\n",
      "Train set: Average loss: 0.2000, Accuracy: 56524/60000 (94.2%)\n",
      "\n",
      "\n",
      "Test set: Average loss: 0.1855, Accuracy: 9438/10000 (94.380%)\n",
      "\n",
      "Train Epoch: 4 [0/60000 (0%)]\tLoss: 13.584682\n",
      "Train Epoch: 4 [6400/60000 (11%)]\tLoss: 8.431697\n",
      "Train Epoch: 4 [12800/60000 (21%)]\tLoss: 16.679382\n",
      "Train Epoch: 4 [19200/60000 (32%)]\tLoss: 4.748555\n",
      "Train Epoch: 4 [25600/60000 (43%)]\tLoss: 5.895708\n",
      "Train Epoch: 4 [32000/60000 (53%)]\tLoss: 21.755516\n",
      "Train Epoch: 4 [38400/60000 (64%)]\tLoss: 8.127964\n",
      "Train Epoch: 4 [44800/60000 (75%)]\tLoss: 20.695272\n",
      "Train Epoch: 4 [51200/60000 (85%)]\tLoss: 3.711849\n",
      "Train Epoch: 4 [57600/60000 (96%)]\tLoss: 8.677610\n",
      "\n",
      "Train set: Average loss: 0.1766, Accuracy: 56904/60000 (94.8%)\n",
      "\n",
      "\n",
      "Test set: Average loss: 0.1719, Accuracy: 9496/10000 (94.960%)\n",
      "\n",
      "Train Epoch: 5 [0/60000 (0%)]\tLoss: 6.777165\n",
      "Train Epoch: 5 [6400/60000 (11%)]\tLoss: 6.135270\n",
      "Train Epoch: 5 [12800/60000 (21%)]\tLoss: 10.664827\n",
      "Train Epoch: 5 [19200/60000 (32%)]\tLoss: 7.144428\n",
      "Train Epoch: 5 [25600/60000 (43%)]\tLoss: 6.303588\n",
      "Train Epoch: 5 [32000/60000 (53%)]\tLoss: 10.973931\n",
      "Train Epoch: 5 [38400/60000 (64%)]\tLoss: 7.037348\n",
      "Train Epoch: 5 [44800/60000 (75%)]\tLoss: 7.289730\n",
      "Train Epoch: 5 [51200/60000 (85%)]\tLoss: 8.747381\n",
      "Train Epoch: 5 [57600/60000 (96%)]\tLoss: 3.493462\n",
      "\n",
      "Train set: Average loss: 0.1630, Accuracy: 57139/60000 (95.2%)\n",
      "\n",
      "\n",
      "Test set: Average loss: 0.1676, Accuracy: 9526/10000 (95.260%)\n",
      "\n",
      "Train Epoch: 6 [0/60000 (0%)]\tLoss: 11.023372\n",
      "Train Epoch: 6 [6400/60000 (11%)]\tLoss: 9.253084\n",
      "Train Epoch: 6 [12800/60000 (21%)]\tLoss: 15.561069\n",
      "Train Epoch: 6 [19200/60000 (32%)]\tLoss: 7.357167\n",
      "Train Epoch: 6 [25600/60000 (43%)]\tLoss: 8.259345\n",
      "Train Epoch: 6 [32000/60000 (53%)]\tLoss: 16.870932\n",
      "Train Epoch: 6 [38400/60000 (64%)]\tLoss: 4.495289\n",
      "Train Epoch: 6 [44800/60000 (75%)]\tLoss: 9.044473\n",
      "Train Epoch: 6 [51200/60000 (85%)]\tLoss: 1.820797\n",
      "Train Epoch: 6 [57600/60000 (96%)]\tLoss: 13.084435\n",
      "\n",
      "Train set: Average loss: 0.1528, Accuracy: 57315/60000 (95.5%)\n",
      "\n",
      "\n",
      "Test set: Average loss: 0.1597, Accuracy: 9530/10000 (95.300%)\n",
      "\n",
      "Train Epoch: 7 [0/60000 (0%)]\tLoss: 9.071758\n",
      "Train Epoch: 7 [6400/60000 (11%)]\tLoss: 7.550754\n",
      "Train Epoch: 7 [12800/60000 (21%)]\tLoss: 8.687635\n",
      "Train Epoch: 7 [19200/60000 (32%)]\tLoss: 5.609941\n",
      "Train Epoch: 7 [25600/60000 (43%)]\tLoss: 11.130320\n",
      "Train Epoch: 7 [32000/60000 (53%)]\tLoss: 10.822005\n",
      "Train Epoch: 7 [38400/60000 (64%)]\tLoss: 1.416936\n",
      "Train Epoch: 7 [44800/60000 (75%)]\tLoss: 4.180232\n",
      "Train Epoch: 7 [51200/60000 (85%)]\tLoss: 6.673087\n",
      "Train Epoch: 7 [57600/60000 (96%)]\tLoss: 8.424707\n",
      "\n",
      "Train set: Average loss: 0.1449, Accuracy: 57442/60000 (95.7%)\n",
      "\n",
      "\n",
      "Test set: Average loss: 0.1649, Accuracy: 9521/10000 (95.210%)\n",
      "\n",
      "Train Epoch: 8 [0/60000 (0%)]\tLoss: 2.528963\n",
      "Train Epoch: 8 [6400/60000 (11%)]\tLoss: 4.746848\n",
      "Train Epoch: 8 [12800/60000 (21%)]\tLoss: 7.577739\n",
      "Train Epoch: 8 [19200/60000 (32%)]\tLoss: 4.885735\n",
      "Train Epoch: 8 [25600/60000 (43%)]\tLoss: 5.454817\n",
      "Train Epoch: 8 [32000/60000 (53%)]\tLoss: 4.945745\n",
      "Train Epoch: 8 [38400/60000 (64%)]\tLoss: 9.179929\n",
      "Train Epoch: 8 [44800/60000 (75%)]\tLoss: 4.290982\n",
      "Train Epoch: 8 [51200/60000 (85%)]\tLoss: 13.672120\n",
      "Train Epoch: 8 [57600/60000 (96%)]\tLoss: 26.293320\n",
      "\n",
      "Train set: Average loss: 0.1386, Accuracy: 57546/60000 (95.9%)\n",
      "\n",
      "\n",
      "Test set: Average loss: 0.1472, Accuracy: 9572/10000 (95.720%)\n",
      "\n",
      "Train Epoch: 9 [0/60000 (0%)]\tLoss: 17.954008\n",
      "Train Epoch: 9 [6400/60000 (11%)]\tLoss: 12.683661\n",
      "Train Epoch: 9 [12800/60000 (21%)]\tLoss: 4.330476\n",
      "Train Epoch: 9 [19200/60000 (32%)]\tLoss: 3.429244\n",
      "Train Epoch: 9 [25600/60000 (43%)]\tLoss: 8.547682\n",
      "Train Epoch: 9 [32000/60000 (53%)]\tLoss: 6.283981\n",
      "Train Epoch: 9 [38400/60000 (64%)]\tLoss: 12.121844\n",
      "Train Epoch: 9 [44800/60000 (75%)]\tLoss: 8.762219\n",
      "Train Epoch: 9 [51200/60000 (85%)]\tLoss: 8.243936\n",
      "Train Epoch: 9 [57600/60000 (96%)]\tLoss: 7.068153\n",
      "\n",
      "Train set: Average loss: 0.1327, Accuracy: 57636/60000 (96.1%)\n",
      "\n",
      "\n",
      "Test set: Average loss: 0.1496, Accuracy: 9564/10000 (95.640%)\n",
      "\n",
      "Train Epoch: 10 [0/60000 (0%)]\tLoss: 15.921108\n",
      "Train Epoch: 10 [6400/60000 (11%)]\tLoss: 14.248606\n",
      "Train Epoch: 10 [12800/60000 (21%)]\tLoss: 7.185656\n",
      "Train Epoch: 10 [19200/60000 (32%)]\tLoss: 10.910857\n",
      "Train Epoch: 10 [25600/60000 (43%)]\tLoss: 3.071696\n",
      "Train Epoch: 10 [32000/60000 (53%)]\tLoss: 4.689850\n",
      "Train Epoch: 10 [38400/60000 (64%)]\tLoss: 14.315481\n",
      "Train Epoch: 10 [44800/60000 (75%)]\tLoss: 4.979872\n",
      "Train Epoch: 10 [51200/60000 (85%)]\tLoss: 15.386837\n",
      "Train Epoch: 10 [57600/60000 (96%)]\tLoss: 9.621465\n",
      "\n",
      "Train set: Average loss: 0.1275, Accuracy: 57736/60000 (96.2%)\n",
      "\n",
      "\n",
      "Test set: Average loss: 0.1514, Accuracy: 9560/10000 (95.600%)\n",
      "\n",
      "Training is finished.\n"
     ]
    }
   ],
   "source": [
    "epochs = 10\n",
    "for epoch in range(1, epochs + 1):\n",
    "    train(mlp, dl_train, optimizer, epoch, log_interval=100)\n",
    "    test(mlp, dl_test)\n",
    "\n",
    "print ('Training is finished.')"
   ]
  },
  {
   "cell_type": "markdown",
   "metadata": {},
   "source": [
    "After training, you should see test accuracies of > **94%** - By they way, here we report test accuracy, the last exercises reported test error. Accuracy is simply (1 - error). Both metrics are commonly reported, there is no clear preference in literature for one or the other."
   ]
  },
  {
   "cell_type": "markdown",
   "metadata": {},
   "source": [
    "Now, can you do some parameter tuning to boost the test accuracy to > **97%**?"
   ]
  },
  {
   "cell_type": "code",
   "execution_count": 20,
   "metadata": {},
   "outputs": [
    {
     "name": "stdout",
     "output_type": "stream",
     "text": [
      "Train Epoch: 1 [0/60000 (0%)]\tLoss: 147.637131\n",
      "Train Epoch: 1 [6400/60000 (11%)]\tLoss: 41.035004\n",
      "Train Epoch: 1 [12800/60000 (21%)]\tLoss: 23.544641\n",
      "Train Epoch: 1 [19200/60000 (32%)]\tLoss: 22.462940\n",
      "Train Epoch: 1 [25600/60000 (43%)]\tLoss: 11.028230\n",
      "Train Epoch: 1 [32000/60000 (53%)]\tLoss: 7.535907\n",
      "Train Epoch: 1 [38400/60000 (64%)]\tLoss: 6.390390\n",
      "Train Epoch: 1 [44800/60000 (75%)]\tLoss: 7.896100\n",
      "Train Epoch: 1 [51200/60000 (85%)]\tLoss: 7.855185\n",
      "Train Epoch: 1 [57600/60000 (96%)]\tLoss: 5.203014\n",
      "\n",
      "Train set: Average loss: 0.3039, Accuracy: 54559/60000 (90.9%)\n",
      "\n",
      "\n",
      "Test set: Average loss: 0.1868, Accuracy: 9413/10000 (94.130%)\n",
      "\n",
      "Train Epoch: 2 [0/60000 (0%)]\tLoss: 16.143044\n",
      "Train Epoch: 2 [6400/60000 (11%)]\tLoss: 7.577697\n",
      "Train Epoch: 2 [12800/60000 (21%)]\tLoss: 6.392510\n",
      "Train Epoch: 2 [19200/60000 (32%)]\tLoss: 3.520495\n",
      "Train Epoch: 2 [25600/60000 (43%)]\tLoss: 16.613647\n",
      "Train Epoch: 2 [32000/60000 (53%)]\tLoss: 11.295245\n",
      "Train Epoch: 2 [38400/60000 (64%)]\tLoss: 11.313134\n",
      "Train Epoch: 2 [44800/60000 (75%)]\tLoss: 6.738939\n",
      "Train Epoch: 2 [51200/60000 (85%)]\tLoss: 2.756350\n",
      "Train Epoch: 2 [57600/60000 (96%)]\tLoss: 5.884872\n",
      "\n",
      "Train set: Average loss: 0.1333, Accuracy: 57540/60000 (95.9%)\n",
      "\n",
      "\n",
      "Test set: Average loss: 0.1196, Accuracy: 9631/10000 (96.310%)\n",
      "\n",
      "Train Epoch: 3 [0/60000 (0%)]\tLoss: 1.931782\n",
      "Train Epoch: 3 [6400/60000 (11%)]\tLoss: 2.226214\n",
      "Train Epoch: 3 [12800/60000 (21%)]\tLoss: 3.866164\n",
      "Train Epoch: 3 [19200/60000 (32%)]\tLoss: 2.844269\n",
      "Train Epoch: 3 [25600/60000 (43%)]\tLoss: 1.842773\n",
      "Train Epoch: 3 [32000/60000 (53%)]\tLoss: 4.451952\n",
      "Train Epoch: 3 [38400/60000 (64%)]\tLoss: 16.057343\n",
      "Train Epoch: 3 [44800/60000 (75%)]\tLoss: 2.611219\n",
      "Train Epoch: 3 [51200/60000 (85%)]\tLoss: 3.166981\n",
      "Train Epoch: 3 [57600/60000 (96%)]\tLoss: 5.939350\n",
      "\n",
      "Train set: Average loss: 0.0977, Accuracy: 58213/60000 (97.0%)\n",
      "\n",
      "\n",
      "Test set: Average loss: 0.0952, Accuracy: 9686/10000 (96.860%)\n",
      "\n",
      "Train Epoch: 4 [0/60000 (0%)]\tLoss: 8.396147\n",
      "Train Epoch: 4 [6400/60000 (11%)]\tLoss: 3.393769\n",
      "Train Epoch: 4 [12800/60000 (21%)]\tLoss: 12.701831\n",
      "Train Epoch: 4 [19200/60000 (32%)]\tLoss: 8.237654\n",
      "Train Epoch: 4 [25600/60000 (43%)]\tLoss: 5.563838\n",
      "Train Epoch: 4 [32000/60000 (53%)]\tLoss: 1.424126\n",
      "Train Epoch: 4 [38400/60000 (64%)]\tLoss: 2.145367\n",
      "Train Epoch: 4 [44800/60000 (75%)]\tLoss: 2.609964\n",
      "Train Epoch: 4 [51200/60000 (85%)]\tLoss: 8.926311\n",
      "Train Epoch: 4 [57600/60000 (96%)]\tLoss: 2.106853\n",
      "\n",
      "Train set: Average loss: 0.0775, Accuracy: 58531/60000 (97.6%)\n",
      "\n",
      "\n",
      "Test set: Average loss: 0.1022, Accuracy: 9684/10000 (96.840%)\n",
      "\n",
      "Train Epoch: 5 [0/60000 (0%)]\tLoss: 8.390276\n",
      "Train Epoch: 5 [6400/60000 (11%)]\tLoss: 0.975405\n",
      "Train Epoch: 5 [12800/60000 (21%)]\tLoss: 5.859601\n",
      "Train Epoch: 5 [19200/60000 (32%)]\tLoss: 5.294851\n",
      "Train Epoch: 5 [25600/60000 (43%)]\tLoss: 4.228463\n",
      "Train Epoch: 5 [32000/60000 (53%)]\tLoss: 1.550876\n",
      "Train Epoch: 5 [38400/60000 (64%)]\tLoss: 3.454290\n",
      "Train Epoch: 5 [44800/60000 (75%)]\tLoss: 3.592073\n",
      "Train Epoch: 5 [51200/60000 (85%)]\tLoss: 3.058762\n",
      "Train Epoch: 5 [57600/60000 (96%)]\tLoss: 1.548610\n",
      "\n",
      "Train set: Average loss: 0.0657, Accuracy: 58744/60000 (97.9%)\n",
      "\n",
      "\n",
      "Test set: Average loss: 0.1104, Accuracy: 9692/10000 (96.920%)\n",
      "\n",
      "Train Epoch: 6 [0/60000 (0%)]\tLoss: 5.045149\n",
      "Train Epoch: 6 [6400/60000 (11%)]\tLoss: 4.859496\n",
      "Train Epoch: 6 [12800/60000 (21%)]\tLoss: 2.189190\n",
      "Train Epoch: 6 [19200/60000 (32%)]\tLoss: 1.261325\n",
      "Train Epoch: 6 [25600/60000 (43%)]\tLoss: 7.160907\n",
      "Train Epoch: 6 [32000/60000 (53%)]\tLoss: 4.050883\n",
      "Train Epoch: 6 [38400/60000 (64%)]\tLoss: 7.262501\n",
      "Train Epoch: 6 [44800/60000 (75%)]\tLoss: 5.603874\n",
      "Train Epoch: 6 [51200/60000 (85%)]\tLoss: 3.750948\n",
      "Train Epoch: 6 [57600/60000 (96%)]\tLoss: 2.692243\n",
      "\n",
      "Train set: Average loss: 0.0550, Accuracy: 58890/60000 (98.2%)\n",
      "\n",
      "\n",
      "Test set: Average loss: 0.0944, Accuracy: 9739/10000 (97.390%)\n",
      "\n",
      "Train Epoch: 7 [0/60000 (0%)]\tLoss: 2.165238\n",
      "Train Epoch: 7 [6400/60000 (11%)]\tLoss: 6.461330\n",
      "Train Epoch: 7 [12800/60000 (21%)]\tLoss: 9.073320\n",
      "Train Epoch: 7 [19200/60000 (32%)]\tLoss: 2.778272\n",
      "Train Epoch: 7 [25600/60000 (43%)]\tLoss: 3.613318\n",
      "Train Epoch: 7 [32000/60000 (53%)]\tLoss: 1.305463\n",
      "Train Epoch: 7 [38400/60000 (64%)]\tLoss: 7.752027\n",
      "Train Epoch: 7 [44800/60000 (75%)]\tLoss: 2.674098\n",
      "Train Epoch: 7 [51200/60000 (85%)]\tLoss: 2.637404\n",
      "Train Epoch: 7 [57600/60000 (96%)]\tLoss: 9.937487\n",
      "\n",
      "Train set: Average loss: 0.0457, Accuracy: 59077/60000 (98.5%)\n",
      "\n",
      "\n",
      "Test set: Average loss: 0.1086, Accuracy: 9689/10000 (96.890%)\n",
      "\n",
      "Train Epoch: 8 [0/60000 (0%)]\tLoss: 5.914745\n",
      "Train Epoch: 8 [6400/60000 (11%)]\tLoss: 0.305591\n",
      "Train Epoch: 8 [12800/60000 (21%)]\tLoss: 5.129683\n",
      "Train Epoch: 8 [19200/60000 (32%)]\tLoss: 1.625707\n",
      "Train Epoch: 8 [25600/60000 (43%)]\tLoss: 0.393812\n",
      "Train Epoch: 8 [32000/60000 (53%)]\tLoss: 0.994501\n",
      "Train Epoch: 8 [38400/60000 (64%)]\tLoss: 2.482055\n",
      "Train Epoch: 8 [44800/60000 (75%)]\tLoss: 1.475905\n",
      "Train Epoch: 8 [51200/60000 (85%)]\tLoss: 1.939903\n",
      "Train Epoch: 8 [57600/60000 (96%)]\tLoss: 1.725035\n",
      "\n",
      "Train set: Average loss: 0.0412, Accuracy: 59197/60000 (98.7%)\n",
      "\n",
      "\n",
      "Test set: Average loss: 0.0934, Accuracy: 9727/10000 (97.270%)\n",
      "\n",
      "Train Epoch: 9 [0/60000 (0%)]\tLoss: 0.336709\n",
      "Train Epoch: 9 [6400/60000 (11%)]\tLoss: 1.027004\n",
      "Train Epoch: 9 [12800/60000 (21%)]\tLoss: 0.470999\n",
      "Train Epoch: 9 [19200/60000 (32%)]\tLoss: 3.836580\n",
      "Train Epoch: 9 [25600/60000 (43%)]\tLoss: 0.267869\n",
      "Train Epoch: 9 [32000/60000 (53%)]\tLoss: 3.003412\n",
      "Train Epoch: 9 [38400/60000 (64%)]\tLoss: 1.071171\n",
      "Train Epoch: 9 [44800/60000 (75%)]\tLoss: 0.402624\n",
      "Train Epoch: 9 [51200/60000 (85%)]\tLoss: 1.111390\n",
      "Train Epoch: 9 [57600/60000 (96%)]\tLoss: 2.362274\n",
      "\n",
      "Train set: Average loss: 0.0359, Accuracy: 59287/60000 (98.8%)\n",
      "\n",
      "\n",
      "Test set: Average loss: 0.1013, Accuracy: 9716/10000 (97.160%)\n",
      "\n",
      "Train Epoch: 10 [0/60000 (0%)]\tLoss: 3.352701\n",
      "Train Epoch: 10 [6400/60000 (11%)]\tLoss: 0.287840\n",
      "Train Epoch: 10 [12800/60000 (21%)]\tLoss: 0.304062\n",
      "Train Epoch: 10 [19200/60000 (32%)]\tLoss: 2.121922\n",
      "Train Epoch: 10 [25600/60000 (43%)]\tLoss: 10.318166\n",
      "Train Epoch: 10 [32000/60000 (53%)]\tLoss: 1.915246\n",
      "Train Epoch: 10 [38400/60000 (64%)]\tLoss: 0.731159\n",
      "Train Epoch: 10 [44800/60000 (75%)]\tLoss: 1.028432\n",
      "Train Epoch: 10 [51200/60000 (85%)]\tLoss: 0.297494\n",
      "Train Epoch: 10 [57600/60000 (96%)]\tLoss: 2.575359\n",
      "\n",
      "Train set: Average loss: 0.0314, Accuracy: 59351/60000 (98.9%)\n",
      "\n",
      "\n",
      "Test set: Average loss: 0.1057, Accuracy: 9732/10000 (97.320%)\n",
      "\n",
      "Training is finished.\n"
     ]
    }
   ],
   "source": [
    "#########################################################################\n",
    "#TODO: modify the parameters below to see which setting that you can get to 97%\n",
    "#########################################################################\n",
    "nLayer = 3\n",
    "nHidden = 64\n",
    "act_fn = nn.ReLU()\n",
    "\n",
    "# reinitialize the mlp, so we can play with parameters right here\n",
    "mlp = MLP(nInput, nOutput, nLayer, nHidden, act_fn)\n",
    "optimizer = optim.Adam(mlp.parameters())\n",
    "\n",
    "epochs = 10\n",
    "for epoch in range(1, epochs + 1):\n",
    "    train(mlp, dl_train, optimizer, epoch, log_interval=100)\n",
    "    test(mlp, dl_test)\n",
    "\n",
    "print ('Training is finished.')"
   ]
  },
  {
   "cell_type": "markdown",
   "metadata": {},
   "source": [
    "Before you move on to the next exercise, you can further play with the other parameters (learning rate, epochs, a different optimizer, etc.) to get a feeling what can improve or hamper performance. "
   ]
  },
  {
   "cell_type": "markdown",
   "metadata": {},
   "source": [
    "## CNN\n",
    "Alright, we matched our prior performance. Let's surpass it! You will soon see the power of CNN by building a small one yourself. The structure should be as follows\n",
    "\n",
    "| CNN Architecture                             \t|\n",
    "|----------------------------------------------\t|\n",
    "| Conv: $C_{in}=1, C_{out}=32, K=3, S=1, P=0$  \t|\n",
    "| ReLU                                         \t|\n",
    "| Conv: $C_{in}=32, C_{out}=64, K=3, S=1, P=0$ \t|\n",
    "| ReLU                                         \t|\n",
    "| MaxPool2d: $K=2, S=2, P=0$                   \t|\n",
    "| Dropout: $p=0.25$                            \t|\n",
    "| Linear: $C_{in}=9216, C_{out}=128$           \t|\n",
    "| ReLU                                         \t|\n",
    "| Dropout: $p=0.5$                             \t|\n",
    "| Linear: $C_{in}=128, C_{out}=10$             \t|\n",
    "\n",
    "The layers you will need are: \n",
    "\n",
    "`nn.Conv2d,  nn.Linear,  nn.Dropout, nn.MaxPool2d, nn.Flatten`\n",
    "\n",
    "For layers without parameters you can alternatively use function in the forward pass:  \n",
    "\n",
    "`F.max_pool2d, torch.flatten`"
   ]
  },
  {
   "cell_type": "code",
   "execution_count": 21,
   "metadata": {},
   "outputs": [],
   "source": [
    "#########################################################################\n",
    "# TODO: Implement the __init__ and forward method of the CNN class. \n",
    "# Hint: do not forget to flatten the appropriate dimension after the convolutional blocks. \n",
    "# A linear layers expect input of the size (B, H) with batch size B and feature size H\n",
    "#########################################################################\n",
    "\n",
    "class CNN(nn.Module):\n",
    "    def __init__(self):\n",
    "        super(CNN, self).__init__()\n",
    "        self.layer1 = nn.Sequential(\n",
    "            nn.Conv2d(in_channels=1, out_channels=32, kernel_size=3, stride=1, padding=0),\n",
    "            nn.ReLU()\n",
    "        )\n",
    "        self.layer2 = nn.Sequential(\n",
    "            nn.Conv2d(in_channels=32, out_channels=64, kernel_size=3, stride=1, padding=0),\n",
    "            nn.ReLU(),\n",
    "            nn.MaxPool2d(kernel_size=2, stride=2),\n",
    "            nn.Dropout(p=0.25)\n",
    "        )\n",
    "        self.layer3 = nn.Sequential(\n",
    "            nn.Flatten(),\n",
    "            nn.Linear(in_features=9216, out_features=128),\n",
    "            nn.ReLU(),\n",
    "            nn.Dropout(p=0.5)\n",
    "        )\n",
    "        self.layer4 = nn.Linear(in_features=128, out_features=10)\n",
    "\n",
    "        \n",
    "\n",
    "    def forward(self, x):\n",
    "        out = self.layer1(x)\n",
    "        out = self.layer2(out)\n",
    "        out = self.layer3(out)\n",
    "        out = self.layer4(out)\n",
    "        return out\n"
   ]
  },
  {
   "cell_type": "code",
   "execution_count": 22,
   "metadata": {},
   "outputs": [
    {
     "data": {
      "text/plain": [
       "torch.Size([1, 10])"
      ]
     },
     "execution_count": 22,
     "metadata": {},
     "output_type": "execute_result"
    }
   ],
   "source": [
    "# Let's test if the forward pass works\n",
    "# this should print torch.Size([1, 10])\n",
    "t = torch.randn(1,1,28,28)\n",
    "cnn = CNN()\n",
    "cnn(t).shape"
   ]
  },
  {
   "cell_type": "markdown",
   "metadata": {},
   "source": [
    "Alright, let's train!"
   ]
  },
  {
   "cell_type": "code",
   "execution_count": 23,
   "metadata": {},
   "outputs": [],
   "source": [
    "optimizer = optim.Adam(cnn.parameters())"
   ]
  },
  {
   "cell_type": "code",
   "execution_count": 1,
   "metadata": {
    "scrolled": true
   },
   "outputs": [
    {
     "ename": "NameError",
     "evalue": "name 'train' is not defined",
     "output_type": "error",
     "traceback": [
      "\u001b[0;31m---------------------------------------------------------------------------\u001b[0m",
      "\u001b[0;31mNameError\u001b[0m                                 Traceback (most recent call last)",
      "\u001b[1;32m/home/cetaceanw/repo/CV/lab03-dl/code/image_classification.ipynb Cell 42\u001b[0m in \u001b[0;36m<cell line: 2>\u001b[0;34m()\u001b[0m\n\u001b[1;32m      <a href='vscode-notebook-cell://wsl%2Bubuntu/home/cetaceanw/repo/CV/lab03-dl/code/image_classification.ipynb#X56sdnNjb2RlLXJlbW90ZQ%3D%3D?line=0'>1</a>\u001b[0m epochs \u001b[39m=\u001b[39m \u001b[39m5\u001b[39m\n\u001b[1;32m      <a href='vscode-notebook-cell://wsl%2Bubuntu/home/cetaceanw/repo/CV/lab03-dl/code/image_classification.ipynb#X56sdnNjb2RlLXJlbW90ZQ%3D%3D?line=1'>2</a>\u001b[0m \u001b[39mfor\u001b[39;00m epoch \u001b[39min\u001b[39;00m \u001b[39mrange\u001b[39m(\u001b[39m1\u001b[39m, epochs \u001b[39m+\u001b[39m \u001b[39m1\u001b[39m):\n\u001b[0;32m----> <a href='vscode-notebook-cell://wsl%2Bubuntu/home/cetaceanw/repo/CV/lab03-dl/code/image_classification.ipynb#X56sdnNjb2RlLXJlbW90ZQ%3D%3D?line=2'>3</a>\u001b[0m     train(cnn, dl_train, optimizer, epoch, log_interval\u001b[39m=\u001b[39m\u001b[39m100\u001b[39m)\n\u001b[1;32m      <a href='vscode-notebook-cell://wsl%2Bubuntu/home/cetaceanw/repo/CV/lab03-dl/code/image_classification.ipynb#X56sdnNjb2RlLXJlbW90ZQ%3D%3D?line=3'>4</a>\u001b[0m     test(cnn, dl_test)\n",
      "\u001b[0;31mNameError\u001b[0m: name 'train' is not defined"
     ]
    }
   ],
   "source": [
    "epochs = 5\n",
    "for epoch in range(1, epochs + 1):\n",
    "    train(cnn, dl_train, optimizer, epoch, log_interval=100)\n",
    "    test(cnn, dl_test)"
   ]
  },
  {
   "cell_type": "markdown",
   "metadata": {},
   "source": [
    "This will probably take a bit longer to train, as a convolutional network is not very efficient on a CPU. The current settings should get you around **99%** accuracy. Nice! \n",
    "Again, you should try different hyperparameters and see how far you can push the performance."
   ]
  },
  {
   "cell_type": "markdown",
   "metadata": {},
   "source": [
    "### Inline Question\n",
    "\n",
    "If your model weight is randomly initalized, and no training is done as above. What accuracy do you think the model will get for a 10-class classification task in theory?\n",
    "\n",
    "**Your answer**: We will get approximately 10% accuracy since it's equivalent to randomly choose a category.\n"
   ]
  },
  {
   "cell_type": "markdown",
   "metadata": {},
   "source": [
    "## Training on CIFAR10\n",
    "\n",
    "Now we are going to move to something more challenging - CIFAR10. We can reuse most of the code above. Thankfully, CIFAR is also a popular dataset, so we can again make use of a PyTorch convience function."
   ]
  },
  {
   "cell_type": "code",
   "execution_count": null,
   "metadata": {},
   "outputs": [
    {
     "name": "stdout",
     "output_type": "stream",
     "text": [
      "Files already downloaded and verified\n"
     ]
    }
   ],
   "source": [
    "ds_train = datasets.CIFAR10(root='./data', train=True, download=True)"
   ]
  },
  {
   "cell_type": "markdown",
   "metadata": {},
   "source": [
    "This dataset is not normalized yet, so we need to calculate the normalization constants."
   ]
  },
  {
   "cell_type": "code",
   "execution_count": null,
   "metadata": {},
   "outputs": [],
   "source": [
    "ims_train = torch.tensor(ds_train.data)\n",
    "ims_train = ims_train.float() / 255."
   ]
  },
  {
   "cell_type": "code",
   "execution_count": null,
   "metadata": {},
   "outputs": [
    {
     "data": {
      "text/plain": [
       "tensor([0.2470, 0.2435, 0.2616])"
      ]
     },
     "execution_count": 27,
     "metadata": {},
     "output_type": "execute_result"
    }
   ],
   "source": [
    "ims_train.std((0,1,2))"
   ]
  },
  {
   "cell_type": "code",
   "execution_count": null,
   "metadata": {},
   "outputs": [],
   "source": [
    "#########################################################################\n",
    "# TODO: calculate the mean and std of CIFAR\n",
    "# hint: We want the mean and std of the channel dimension, these should\n",
    "# be 3 dimensional\n",
    "#########################################################################\n",
    "mu = ims_train.mean((0,1,2))\n",
    "std = ims_train.std((0,1,2))\n"
   ]
  },
  {
   "cell_type": "code",
   "execution_count": null,
   "metadata": {},
   "outputs": [
    {
     "data": {
      "text/plain": [
       "tensor([0.4914, 0.4822, 0.4465])"
      ]
     },
     "execution_count": 29,
     "metadata": {},
     "output_type": "execute_result"
    }
   ],
   "source": [
    "torch.mean(ims_train, dim=(0,1,2))"
   ]
  },
  {
   "cell_type": "markdown",
   "metadata": {},
   "source": [
    "For CIFAR we want to make use of data augmentation to improve generalization. You will find all data augmentations data are included in torchvision here:\n",
    "\n",
    "https://pytorch.org/docs/stable/torchvision/transforms.html"
   ]
  },
  {
   "cell_type": "code",
   "execution_count": null,
   "metadata": {},
   "outputs": [
    {
     "name": "stdout",
     "output_type": "stream",
     "text": [
      "Files already downloaded and verified\n",
      "Files already downloaded and verified\n"
     ]
    }
   ],
   "source": [
    "BATCH_SIZE = 128\n",
    "NUM_WORKERS = 4 # if you encounter some unexpected errors in data loading, try setting `NUM_WORKERS = 0`\n",
    "#########################################################################\n",
    "# TODO: Implement the proper transforms for the training and test dataloaders. \n",
    "# Then build train and test dataloaders with batch size 128 and 4 workers\n",
    "#\n",
    "# Train: \n",
    "# - Apply a random crop with size 32 on a padded version of the image with P=4\n",
    "# - Flip the image horizontally with a probability of 40 %\n",
    "# - Transform to a Tensor\n",
    "# - Normalize with the constants calculated above\n",
    "# Test: \n",
    "# - Transform to a Tensor\n",
    "# - Normalize with the constants calculated above\n",
    "#########################################################################\n",
    "transform_train = transforms.Compose([\n",
    "    transforms.RandomCrop(size=32, padding=4),\n",
    "    transforms.RandomHorizontalFlip(p=0.4),\n",
    "    transforms.ToTensor(),\n",
    "    transforms.Normalize(mu, std)\n",
    "])\n",
    "transform_test = transforms.Compose([\n",
    "    transforms.ToTensor(),\n",
    "    transforms.Normalize(mu, std)\n",
    "])\n",
    "\n",
    "ds_train = datasets.CIFAR10('./data', train=True, download=True, transform=transform_train)\n",
    "ds_test = datasets.CIFAR10('./data', train=False, download=True, transform=transform_test)\n",
    "\n",
    "dl_train = DataLoader(ds_train, batch_size=BATCH_SIZE, num_workers=NUM_WORKERS, shuffle=True)\n",
    "dl_test = DataLoader(ds_test, batch_size=BATCH_SIZE, num_workers=NUM_WORKERS)"
   ]
  },
  {
   "cell_type": "markdown",
   "metadata": {},
   "source": [
    "Setting up the  optimizer, this time we use SGD. The scheduler adapts the learning rate during traing (you can ignore it)"
   ]
  },
  {
   "cell_type": "code",
   "execution_count": null,
   "metadata": {},
   "outputs": [],
   "source": [
    "cnn = CNN()\n",
    "optimizer = optim.SGD(cnn.parameters(), lr=0.1, momentum=0.9, weight_decay=5e-4)\n",
    "scheduler = torch.optim.lr_scheduler.CosineAnnealingLR(optimizer, T_max=200)"
   ]
  },
  {
   "cell_type": "code",
   "execution_count": null,
   "metadata": {
    "scrolled": true
   },
   "outputs": [
    {
     "ename": "RuntimeError",
     "evalue": "Given groups=1, weight of size [32, 1, 3, 3], expected input[128, 3, 32, 32] to have 1 channels, but got 3 channels instead",
     "output_type": "error",
     "traceback": [
      "\u001b[0;31m---------------------------------------------------------------------------\u001b[0m",
      "\u001b[0;31mRuntimeError\u001b[0m                              Traceback (most recent call last)",
      "\u001b[1;32m/home/cetaceanw/repo/CV/lab03-dl/code/image_classification.ipynb Cell 56\u001b[0m in \u001b[0;36m<cell line: 2>\u001b[0;34m()\u001b[0m\n\u001b[1;32m      <a href='vscode-notebook-cell://wsl%2Bubuntu/home/cetaceanw/repo/CV/lab03-dl/code/image_classification.ipynb#Y106sdnNjb2RlLXJlbW90ZQ%3D%3D?line=0'>1</a>\u001b[0m epochs \u001b[39m=\u001b[39m \u001b[39m5\u001b[39m\n\u001b[1;32m      <a href='vscode-notebook-cell://wsl%2Bubuntu/home/cetaceanw/repo/CV/lab03-dl/code/image_classification.ipynb#Y106sdnNjb2RlLXJlbW90ZQ%3D%3D?line=1'>2</a>\u001b[0m \u001b[39mfor\u001b[39;00m epoch \u001b[39min\u001b[39;00m \u001b[39mrange\u001b[39m(\u001b[39m1\u001b[39m, epochs \u001b[39m+\u001b[39m \u001b[39m1\u001b[39m):\n\u001b[0;32m----> <a href='vscode-notebook-cell://wsl%2Bubuntu/home/cetaceanw/repo/CV/lab03-dl/code/image_classification.ipynb#Y106sdnNjb2RlLXJlbW90ZQ%3D%3D?line=2'>3</a>\u001b[0m     train(cnn, dl_train, optimizer, epoch, log_interval\u001b[39m=\u001b[39;49m\u001b[39m100\u001b[39;49m)\n\u001b[1;32m      <a href='vscode-notebook-cell://wsl%2Bubuntu/home/cetaceanw/repo/CV/lab03-dl/code/image_classification.ipynb#Y106sdnNjb2RlLXJlbW90ZQ%3D%3D?line=3'>4</a>\u001b[0m     test(cnn, dl_test)    \n\u001b[1;32m      <a href='vscode-notebook-cell://wsl%2Bubuntu/home/cetaceanw/repo/CV/lab03-dl/code/image_classification.ipynb#Y106sdnNjb2RlLXJlbW90ZQ%3D%3D?line=4'>5</a>\u001b[0m     scheduler\u001b[39m.\u001b[39mstep()\n",
      "\u001b[1;32m/home/cetaceanw/repo/CV/lab03-dl/code/image_classification.ipynb Cell 56\u001b[0m in \u001b[0;36mtrain\u001b[0;34m(model, dl_train, optimizer, epoch, log_interval, device)\u001b[0m\n\u001b[1;32m     <a href='vscode-notebook-cell://wsl%2Bubuntu/home/cetaceanw/repo/CV/lab03-dl/code/image_classification.ipynb#Y106sdnNjb2RlLXJlbW90ZQ%3D%3D?line=14'>15</a>\u001b[0m optimizer\u001b[39m.\u001b[39mzero_grad()         \n\u001b[1;32m     <a href='vscode-notebook-cell://wsl%2Bubuntu/home/cetaceanw/repo/CV/lab03-dl/code/image_classification.ipynb#Y106sdnNjb2RlLXJlbW90ZQ%3D%3D?line=16'>17</a>\u001b[0m \u001b[39m##### implement this part #####\u001b[39;00m\n\u001b[1;32m     <a href='vscode-notebook-cell://wsl%2Bubuntu/home/cetaceanw/repo/CV/lab03-dl/code/image_classification.ipynb#Y106sdnNjb2RlLXJlbW90ZQ%3D%3D?line=17'>18</a>\u001b[0m \n\u001b[1;32m     <a href='vscode-notebook-cell://wsl%2Bubuntu/home/cetaceanw/repo/CV/lab03-dl/code/image_classification.ipynb#Y106sdnNjb2RlLXJlbW90ZQ%3D%3D?line=18'>19</a>\u001b[0m \u001b[39m# Forward\u001b[39;00m\n\u001b[0;32m---> <a href='vscode-notebook-cell://wsl%2Bubuntu/home/cetaceanw/repo/CV/lab03-dl/code/image_classification.ipynb#Y106sdnNjb2RlLXJlbW90ZQ%3D%3D?line=19'>20</a>\u001b[0m output \u001b[39m=\u001b[39m model(data)\n\u001b[1;32m     <a href='vscode-notebook-cell://wsl%2Bubuntu/home/cetaceanw/repo/CV/lab03-dl/code/image_classification.ipynb#Y106sdnNjb2RlLXJlbW90ZQ%3D%3D?line=20'>21</a>\u001b[0m loss \u001b[39m=\u001b[39m F\u001b[39m.\u001b[39mcross_entropy(output, target, reduction\u001b[39m=\u001b[39m\u001b[39m'\u001b[39m\u001b[39msum\u001b[39m\u001b[39m'\u001b[39m)\n\u001b[1;32m     <a href='vscode-notebook-cell://wsl%2Bubuntu/home/cetaceanw/repo/CV/lab03-dl/code/image_classification.ipynb#Y106sdnNjb2RlLXJlbW90ZQ%3D%3D?line=22'>23</a>\u001b[0m \u001b[39m# Backward\u001b[39;00m\n",
      "File \u001b[0;32m~/.local/lib/python3.8/site-packages/torch/nn/modules/module.py:1102\u001b[0m, in \u001b[0;36mModule._call_impl\u001b[0;34m(self, *input, **kwargs)\u001b[0m\n\u001b[1;32m   1098\u001b[0m \u001b[39m# If we don't have any hooks, we want to skip the rest of the logic in\u001b[39;00m\n\u001b[1;32m   1099\u001b[0m \u001b[39m# this function, and just call forward.\u001b[39;00m\n\u001b[1;32m   1100\u001b[0m \u001b[39mif\u001b[39;00m \u001b[39mnot\u001b[39;00m (\u001b[39mself\u001b[39m\u001b[39m.\u001b[39m_backward_hooks \u001b[39mor\u001b[39;00m \u001b[39mself\u001b[39m\u001b[39m.\u001b[39m_forward_hooks \u001b[39mor\u001b[39;00m \u001b[39mself\u001b[39m\u001b[39m.\u001b[39m_forward_pre_hooks \u001b[39mor\u001b[39;00m _global_backward_hooks\n\u001b[1;32m   1101\u001b[0m         \u001b[39mor\u001b[39;00m _global_forward_hooks \u001b[39mor\u001b[39;00m _global_forward_pre_hooks):\n\u001b[0;32m-> 1102\u001b[0m     \u001b[39mreturn\u001b[39;00m forward_call(\u001b[39m*\u001b[39;49m\u001b[39minput\u001b[39;49m, \u001b[39m*\u001b[39;49m\u001b[39m*\u001b[39;49mkwargs)\n\u001b[1;32m   1103\u001b[0m \u001b[39m# Do not call functions when jit is used\u001b[39;00m\n\u001b[1;32m   1104\u001b[0m full_backward_hooks, non_full_backward_hooks \u001b[39m=\u001b[39m [], []\n",
      "\u001b[1;32m/home/cetaceanw/repo/CV/lab03-dl/code/image_classification.ipynb Cell 56\u001b[0m in \u001b[0;36mCNN.forward\u001b[0;34m(self, x)\u001b[0m\n\u001b[1;32m     <a href='vscode-notebook-cell://wsl%2Bubuntu/home/cetaceanw/repo/CV/lab03-dl/code/image_classification.ipynb#Y106sdnNjb2RlLXJlbW90ZQ%3D%3D?line=29'>30</a>\u001b[0m \u001b[39mdef\u001b[39;00m \u001b[39mforward\u001b[39m(\u001b[39mself\u001b[39m, x):\n\u001b[0;32m---> <a href='vscode-notebook-cell://wsl%2Bubuntu/home/cetaceanw/repo/CV/lab03-dl/code/image_classification.ipynb#Y106sdnNjb2RlLXJlbW90ZQ%3D%3D?line=30'>31</a>\u001b[0m     out \u001b[39m=\u001b[39m \u001b[39mself\u001b[39;49m\u001b[39m.\u001b[39;49mlayer1(x)\n\u001b[1;32m     <a href='vscode-notebook-cell://wsl%2Bubuntu/home/cetaceanw/repo/CV/lab03-dl/code/image_classification.ipynb#Y106sdnNjb2RlLXJlbW90ZQ%3D%3D?line=31'>32</a>\u001b[0m     out \u001b[39m=\u001b[39m \u001b[39mself\u001b[39m\u001b[39m.\u001b[39mlayer2(out)\n\u001b[1;32m     <a href='vscode-notebook-cell://wsl%2Bubuntu/home/cetaceanw/repo/CV/lab03-dl/code/image_classification.ipynb#Y106sdnNjb2RlLXJlbW90ZQ%3D%3D?line=32'>33</a>\u001b[0m     out \u001b[39m=\u001b[39m \u001b[39mself\u001b[39m\u001b[39m.\u001b[39mlayer3(out)\n",
      "File \u001b[0;32m~/.local/lib/python3.8/site-packages/torch/nn/modules/module.py:1102\u001b[0m, in \u001b[0;36mModule._call_impl\u001b[0;34m(self, *input, **kwargs)\u001b[0m\n\u001b[1;32m   1098\u001b[0m \u001b[39m# If we don't have any hooks, we want to skip the rest of the logic in\u001b[39;00m\n\u001b[1;32m   1099\u001b[0m \u001b[39m# this function, and just call forward.\u001b[39;00m\n\u001b[1;32m   1100\u001b[0m \u001b[39mif\u001b[39;00m \u001b[39mnot\u001b[39;00m (\u001b[39mself\u001b[39m\u001b[39m.\u001b[39m_backward_hooks \u001b[39mor\u001b[39;00m \u001b[39mself\u001b[39m\u001b[39m.\u001b[39m_forward_hooks \u001b[39mor\u001b[39;00m \u001b[39mself\u001b[39m\u001b[39m.\u001b[39m_forward_pre_hooks \u001b[39mor\u001b[39;00m _global_backward_hooks\n\u001b[1;32m   1101\u001b[0m         \u001b[39mor\u001b[39;00m _global_forward_hooks \u001b[39mor\u001b[39;00m _global_forward_pre_hooks):\n\u001b[0;32m-> 1102\u001b[0m     \u001b[39mreturn\u001b[39;00m forward_call(\u001b[39m*\u001b[39;49m\u001b[39minput\u001b[39;49m, \u001b[39m*\u001b[39;49m\u001b[39m*\u001b[39;49mkwargs)\n\u001b[1;32m   1103\u001b[0m \u001b[39m# Do not call functions when jit is used\u001b[39;00m\n\u001b[1;32m   1104\u001b[0m full_backward_hooks, non_full_backward_hooks \u001b[39m=\u001b[39m [], []\n",
      "File \u001b[0;32m~/.local/lib/python3.8/site-packages/torch/nn/modules/container.py:141\u001b[0m, in \u001b[0;36mSequential.forward\u001b[0;34m(self, input)\u001b[0m\n\u001b[1;32m    139\u001b[0m \u001b[39mdef\u001b[39;00m \u001b[39mforward\u001b[39m(\u001b[39mself\u001b[39m, \u001b[39minput\u001b[39m):\n\u001b[1;32m    140\u001b[0m     \u001b[39mfor\u001b[39;00m module \u001b[39min\u001b[39;00m \u001b[39mself\u001b[39m:\n\u001b[0;32m--> 141\u001b[0m         \u001b[39minput\u001b[39m \u001b[39m=\u001b[39m module(\u001b[39minput\u001b[39;49m)\n\u001b[1;32m    142\u001b[0m     \u001b[39mreturn\u001b[39;00m \u001b[39minput\u001b[39m\n",
      "File \u001b[0;32m~/.local/lib/python3.8/site-packages/torch/nn/modules/module.py:1102\u001b[0m, in \u001b[0;36mModule._call_impl\u001b[0;34m(self, *input, **kwargs)\u001b[0m\n\u001b[1;32m   1098\u001b[0m \u001b[39m# If we don't have any hooks, we want to skip the rest of the logic in\u001b[39;00m\n\u001b[1;32m   1099\u001b[0m \u001b[39m# this function, and just call forward.\u001b[39;00m\n\u001b[1;32m   1100\u001b[0m \u001b[39mif\u001b[39;00m \u001b[39mnot\u001b[39;00m (\u001b[39mself\u001b[39m\u001b[39m.\u001b[39m_backward_hooks \u001b[39mor\u001b[39;00m \u001b[39mself\u001b[39m\u001b[39m.\u001b[39m_forward_hooks \u001b[39mor\u001b[39;00m \u001b[39mself\u001b[39m\u001b[39m.\u001b[39m_forward_pre_hooks \u001b[39mor\u001b[39;00m _global_backward_hooks\n\u001b[1;32m   1101\u001b[0m         \u001b[39mor\u001b[39;00m _global_forward_hooks \u001b[39mor\u001b[39;00m _global_forward_pre_hooks):\n\u001b[0;32m-> 1102\u001b[0m     \u001b[39mreturn\u001b[39;00m forward_call(\u001b[39m*\u001b[39;49m\u001b[39minput\u001b[39;49m, \u001b[39m*\u001b[39;49m\u001b[39m*\u001b[39;49mkwargs)\n\u001b[1;32m   1103\u001b[0m \u001b[39m# Do not call functions when jit is used\u001b[39;00m\n\u001b[1;32m   1104\u001b[0m full_backward_hooks, non_full_backward_hooks \u001b[39m=\u001b[39m [], []\n",
      "File \u001b[0;32m~/.local/lib/python3.8/site-packages/torch/nn/modules/conv.py:446\u001b[0m, in \u001b[0;36mConv2d.forward\u001b[0;34m(self, input)\u001b[0m\n\u001b[1;32m    445\u001b[0m \u001b[39mdef\u001b[39;00m \u001b[39mforward\u001b[39m(\u001b[39mself\u001b[39m, \u001b[39minput\u001b[39m: Tensor) \u001b[39m-\u001b[39m\u001b[39m>\u001b[39m Tensor:\n\u001b[0;32m--> 446\u001b[0m     \u001b[39mreturn\u001b[39;00m \u001b[39mself\u001b[39;49m\u001b[39m.\u001b[39;49m_conv_forward(\u001b[39minput\u001b[39;49m, \u001b[39mself\u001b[39;49m\u001b[39m.\u001b[39;49mweight, \u001b[39mself\u001b[39;49m\u001b[39m.\u001b[39;49mbias)\n",
      "File \u001b[0;32m~/.local/lib/python3.8/site-packages/torch/nn/modules/conv.py:442\u001b[0m, in \u001b[0;36mConv2d._conv_forward\u001b[0;34m(self, input, weight, bias)\u001b[0m\n\u001b[1;32m    438\u001b[0m \u001b[39mif\u001b[39;00m \u001b[39mself\u001b[39m\u001b[39m.\u001b[39mpadding_mode \u001b[39m!=\u001b[39m \u001b[39m'\u001b[39m\u001b[39mzeros\u001b[39m\u001b[39m'\u001b[39m:\n\u001b[1;32m    439\u001b[0m     \u001b[39mreturn\u001b[39;00m F\u001b[39m.\u001b[39mconv2d(F\u001b[39m.\u001b[39mpad(\u001b[39minput\u001b[39m, \u001b[39mself\u001b[39m\u001b[39m.\u001b[39m_reversed_padding_repeated_twice, mode\u001b[39m=\u001b[39m\u001b[39mself\u001b[39m\u001b[39m.\u001b[39mpadding_mode),\n\u001b[1;32m    440\u001b[0m                     weight, bias, \u001b[39mself\u001b[39m\u001b[39m.\u001b[39mstride,\n\u001b[1;32m    441\u001b[0m                     _pair(\u001b[39m0\u001b[39m), \u001b[39mself\u001b[39m\u001b[39m.\u001b[39mdilation, \u001b[39mself\u001b[39m\u001b[39m.\u001b[39mgroups)\n\u001b[0;32m--> 442\u001b[0m \u001b[39mreturn\u001b[39;00m F\u001b[39m.\u001b[39;49mconv2d(\u001b[39minput\u001b[39;49m, weight, bias, \u001b[39mself\u001b[39;49m\u001b[39m.\u001b[39;49mstride,\n\u001b[1;32m    443\u001b[0m                 \u001b[39mself\u001b[39;49m\u001b[39m.\u001b[39;49mpadding, \u001b[39mself\u001b[39;49m\u001b[39m.\u001b[39;49mdilation, \u001b[39mself\u001b[39;49m\u001b[39m.\u001b[39;49mgroups)\n",
      "\u001b[0;31mRuntimeError\u001b[0m: Given groups=1, weight of size [32, 1, 3, 3], expected input[128, 3, 32, 32] to have 1 channels, but got 3 channels instead"
     ]
    }
   ],
   "source": [
    "epochs = 5\n",
    "for epoch in range(1, epochs + 1):\n",
    "    train(cnn, dl_train, optimizer, epoch, log_interval=100)\n",
    "    test(cnn, dl_test)    \n",
    "    scheduler.step()"
   ]
  },
  {
   "cell_type": "markdown",
   "metadata": {},
   "source": [
    "This will not work. You should see the following error message\n",
    "\n",
    "```\n",
    "Given groups=1, weight of size [32, 1, 3, 3], expected input[128, 3, 32, 32] to have 1 channels, but got 3 channels instead\n",
    "```\n",
    "\n",
    "This error is telling us that something is not right in the definition of our model. Copy the CNN class from above and make changes, so the training works."
   ]
  },
  {
   "cell_type": "code",
   "execution_count": null,
   "metadata": {},
   "outputs": [
    {
     "data": {
      "text/plain": [
       "torch.Size([1, 128])"
      ]
     },
     "execution_count": 53,
     "metadata": {},
     "output_type": "execute_result"
    }
   ],
   "source": [
    "#########################################################################\n",
    "# TODO: Adapt the definition from the CNN class above to work on CIFAR.\n",
    "# You can copy and run the following prompt for evaluation:\n",
    "# CNN()(torch.randn(1,3,32,32)).shape\n",
    "# It should print 'torch.Size([1, 10])'\n",
    "# Hint: You need to change 2 things. \n",
    "#########################################################################\n",
    "\n",
    "class CNN(nn.Module):\n",
    "    def __init__(self):\n",
    "        super(CNN, self).__init__()\n",
    "        self.layer1 = nn.Sequential(\n",
    "            nn.Conv2d(in_channels=3, out_channels=32, kernel_size=3, stride=1, padding=0),\n",
    "            nn.ReLU()\n",
    "        )\n",
    "        self.layer2 = nn.Sequential(\n",
    "            nn.Conv2d(in_channels=32, out_channels=64, kernel_size=3, stride=1, padding=0),\n",
    "            nn.ReLU(),\n",
    "            nn.MaxPool2d(kernel_size=2, stride=2),\n",
    "            nn.Dropout(p=0.25)\n",
    "        )\n",
    "        self.layer3 = nn.Sequential(\n",
    "            nn.Flatten(),\n",
    "            nn.Linear(in_features=12544, out_features=1000),\n",
    "            nn.ReLU(),\n",
    "            nn.Dropout(p=0.5)\n",
    "        )\n",
    "        # self.layer4 = nn.Linear(in_features=128, out_features=10)\n",
    "        # The original layer is as above. I made it a little more complicated so it learns more.\n",
    "        self.layer4 = nn.Sequential(\n",
    "            nn.Linear(in_features=1000, out_features=500),\n",
    "            nn.ReLU(),\n",
    "            nn.Linear(in_features=500, out_features=128)\n",
    "        )\n",
    "        \n",
    "\n",
    "    def forward(self, x):\n",
    "        out = self.layer1(x)\n",
    "        out = self.layer2(out)\n",
    "        out = self.layer3(out)\n",
    "        out = self.layer4(out)\n",
    "        return out\n",
    "\n",
    "CNN()(torch.randn(1,3,32,32)).shape"
   ]
  },
  {
   "cell_type": "markdown",
   "metadata": {},
   "source": [
    "Let's try again"
   ]
  },
  {
   "cell_type": "markdown",
   "metadata": {},
   "source": [
    "**SGD will cause NAN loss, so I replace all to Adam**"
   ]
  },
  {
   "cell_type": "code",
   "execution_count": null,
   "metadata": {
    "scrolled": true
   },
   "outputs": [
    {
     "name": "stdout",
     "output_type": "stream",
     "text": [
      "Train Epoch: 1 [0/50000 (0%)]\tLoss: 621.344238\n",
      "Train Epoch: 1 [12800/50000 (26%)]\tLoss: 252.504929\n"
     ]
    },
    {
     "ename": "",
     "evalue": "",
     "output_type": "error",
     "traceback": [
      "\u001b[1;31mCanceled future for execute_request message before replies were done"
     ]
    },
    {
     "ename": "",
     "evalue": "",
     "output_type": "error",
     "traceback": [
      "\u001b[1;31mThe Kernel crashed while executing code in the the current cell or a previous cell. Please review the code in the cell(s) to identify a possible cause of the failure. Click <a href='https://aka.ms/vscodeJupyterKernelCrash'>here</a> for more info. View Jupyter <a href='command:jupyter.viewOutput'>log</a> for further details."
     ]
    }
   ],
   "source": [
    "cnn = CNN()\n",
    "optimizer = optim.Adam(cnn.parameters(), lr=0.01, weight_decay=5e-4, eps=10-7)\n",
    "scheduler = torch.optim.lr_scheduler.CosineAnnealingLR(optimizer, T_max=200)\n",
    "\n",
    "epochs = 10\n",
    "for epoch in range(1, epochs + 1):\n",
    "    train(cnn, dl_train, optimizer, epoch, log_interval=100)\n",
    "    test(cnn, dl_test)    \n",
    "    scheduler.step()"
   ]
  },
  {
   "cell_type": "markdown",
   "metadata": {},
   "source": [
    "This should give 40 - 50 % - and if you are not already on Colab it will give you a stressed out laptop. The performance is a lot better than random, but we can definitely do better."
   ]
  },
  {
   "cell_type": "markdown",
   "metadata": {},
   "source": [
    "### Have fun with GPUs\n",
    "You can already call it a day until this point because we won't grade the rest of the excecise. You can have more fun with the rest :)\n"
   ]
  },
  {
   "cell_type": "markdown",
   "metadata": {},
   "source": [
    "\n",
    "If you didn't already, move to colab. To use a GPU, follow on the collaboratory menu tabs, \"Runtime\" => \"Change runtime type\" and set it to GPU. Then run the same training loop but now on GPU. \n",
    "\n",
    "It as easy as:"
   ]
  },
  {
   "cell_type": "code",
   "execution_count": null,
   "metadata": {},
   "outputs": [
    {
     "name": "stdout",
     "output_type": "stream",
     "text": [
      "Train Epoch: 1 [0/50000 (0%)]\tLoss: 620.015747\n",
      "Train Epoch: 1 [12800/50000 (26%)]\tLoss: 246.942902\n",
      "Train Epoch: 1 [25600/50000 (51%)]\tLoss: 234.923172\n",
      "Train Epoch: 1 [38400/50000 (77%)]\tLoss: 203.716019\n",
      "\n",
      "Train set: Average loss: 1.9402, Accuracy: 15742/50000 (31.5%)\n",
      "\n",
      "\n",
      "Test set: Average loss: 1.4602, Accuracy: 4526/10000 (45.260%)\n",
      "\n",
      "Train Epoch: 2 [0/50000 (0%)]\tLoss: 209.351929\n",
      "Train Epoch: 2 [12800/50000 (26%)]\tLoss: 178.317612\n",
      "Train Epoch: 2 [25600/50000 (51%)]\tLoss: 181.071182\n",
      "Train Epoch: 2 [38400/50000 (77%)]\tLoss: 173.995697\n",
      "\n",
      "Train set: Average loss: 1.4194, Accuracy: 24141/50000 (48.3%)\n",
      "\n",
      "\n",
      "Test set: Average loss: 1.1647, Accuracy: 5891/10000 (58.910%)\n",
      "\n",
      "Train Epoch: 3 [0/50000 (0%)]\tLoss: 179.899597\n",
      "Train Epoch: 3 [12800/50000 (26%)]\tLoss: 151.880173\n",
      "Train Epoch: 3 [25600/50000 (51%)]\tLoss: 146.143661\n",
      "Train Epoch: 3 [38400/50000 (77%)]\tLoss: 180.423599\n",
      "\n",
      "Train set: Average loss: 1.2678, Accuracy: 27271/50000 (54.5%)\n",
      "\n",
      "\n",
      "Test set: Average loss: 1.1075, Accuracy: 6035/10000 (60.350%)\n",
      "\n",
      "Train Epoch: 4 [0/50000 (0%)]\tLoss: 152.990616\n",
      "Train Epoch: 4 [12800/50000 (26%)]\tLoss: 177.852859\n",
      "Train Epoch: 4 [25600/50000 (51%)]\tLoss: 146.978119\n",
      "Train Epoch: 4 [38400/50000 (77%)]\tLoss: 157.598480\n",
      "\n",
      "Train set: Average loss: 1.1844, Accuracy: 28920/50000 (57.8%)\n",
      "\n",
      "\n",
      "Test set: Average loss: 0.9562, Accuracy: 6636/10000 (66.360%)\n",
      "\n",
      "Train Epoch: 5 [0/50000 (0%)]\tLoss: 159.166870\n",
      "Train Epoch: 5 [12800/50000 (26%)]\tLoss: 146.615341\n",
      "Train Epoch: 5 [25600/50000 (51%)]\tLoss: 130.720963\n",
      "Train Epoch: 5 [38400/50000 (77%)]\tLoss: 151.271103\n",
      "\n",
      "Train set: Average loss: 1.1246, Accuracy: 30035/50000 (60.1%)\n",
      "\n",
      "\n",
      "Test set: Average loss: 0.9295, Accuracy: 6688/10000 (66.880%)\n",
      "\n",
      "Train Epoch: 6 [0/50000 (0%)]\tLoss: 168.910431\n",
      "Train Epoch: 6 [12800/50000 (26%)]\tLoss: 139.854584\n",
      "Train Epoch: 6 [25600/50000 (51%)]\tLoss: 148.594193\n",
      "Train Epoch: 6 [38400/50000 (77%)]\tLoss: 144.499084\n",
      "\n",
      "Train set: Average loss: 1.0909, Accuracy: 30551/50000 (61.1%)\n",
      "\n",
      "\n",
      "Test set: Average loss: 0.9246, Accuracy: 6783/10000 (67.830%)\n",
      "\n",
      "Train Epoch: 7 [0/50000 (0%)]\tLoss: 152.821243\n",
      "Train Epoch: 7 [12800/50000 (26%)]\tLoss: 127.949638\n",
      "Train Epoch: 7 [25600/50000 (51%)]\tLoss: 145.909637\n",
      "Train Epoch: 7 [38400/50000 (77%)]\tLoss: 129.611847\n",
      "\n",
      "Train set: Average loss: 1.0508, Accuracy: 31410/50000 (62.8%)\n",
      "\n",
      "\n",
      "Test set: Average loss: 0.8584, Accuracy: 7056/10000 (70.560%)\n",
      "\n",
      "Train Epoch: 8 [0/50000 (0%)]\tLoss: 142.633881\n",
      "Train Epoch: 8 [12800/50000 (26%)]\tLoss: 140.319580\n",
      "Train Epoch: 8 [25600/50000 (51%)]\tLoss: 117.169113\n",
      "Train Epoch: 8 [38400/50000 (77%)]\tLoss: 143.722656\n",
      "\n",
      "Train set: Average loss: 1.0210, Accuracy: 32028/50000 (64.1%)\n",
      "\n",
      "\n",
      "Test set: Average loss: 0.8635, Accuracy: 7021/10000 (70.210%)\n",
      "\n",
      "Train Epoch: 9 [0/50000 (0%)]\tLoss: 115.615211\n",
      "Train Epoch: 9 [12800/50000 (26%)]\tLoss: 119.910194\n",
      "Train Epoch: 9 [25600/50000 (51%)]\tLoss: 145.272507\n",
      "Train Epoch: 9 [38400/50000 (77%)]\tLoss: 105.050781\n",
      "\n",
      "Train set: Average loss: 0.9990, Accuracy: 32436/50000 (64.9%)\n",
      "\n",
      "\n",
      "Test set: Average loss: 0.8250, Accuracy: 7083/10000 (70.830%)\n",
      "\n",
      "Train Epoch: 10 [0/50000 (0%)]\tLoss: 158.883789\n",
      "Train Epoch: 10 [12800/50000 (26%)]\tLoss: 133.367065\n",
      "Train Epoch: 10 [25600/50000 (51%)]\tLoss: 119.803009\n",
      "Train Epoch: 10 [38400/50000 (77%)]\tLoss: 118.686012\n",
      "\n",
      "Train set: Average loss: 0.9700, Accuracy: 32866/50000 (65.7%)\n",
      "\n",
      "\n",
      "Test set: Average loss: 0.8053, Accuracy: 7146/10000 (71.460%)\n",
      "\n"
     ]
    }
   ],
   "source": [
    "device = 'cuda'\n",
    "if device == 'cuda': torch.backends.cudnn.benchmark = True # additional speed up\n",
    "\n",
    "cnn = CNN()\n",
    "optimizer = optim.Adam(cnn.parameters(), lr=0.01, weight_decay=5e-4, eps=10-7)\n",
    "scheduler = torch.optim.lr_scheduler.CosineAnnealingLR(optimizer, T_max=200)\n",
    "cnn = cnn.to(device)\n",
    "\n",
    "epochs = 10\n",
    "for epoch in range(1, epochs + 1):\n",
    "    train(cnn, dl_train, optimizer, epoch, log_interval=100, device=device)\n",
    "    test(cnn, dl_test, device=device)    \n",
    "    scheduler.step()"
   ]
  },
  {
   "cell_type": "markdown",
   "metadata": {},
   "source": [
    "This should be way faster now. But the true advantage of the GPU is that we can use much bigger models now and still train them in a reasonable amount of time. PyTorch is again very handy. The torchvision library comes with varies state-of-the-art model architectures, some of which you have seen in the lecture."
   ]
  },
  {
   "cell_type": "code",
   "execution_count": null,
   "metadata": {},
   "outputs": [],
   "source": [
    "from torchvision.models import resnet18"
   ]
  },
  {
   "cell_type": "code",
   "execution_count": null,
   "metadata": {
    "scrolled": true
   },
   "outputs": [
    {
     "name": "stdout",
     "output_type": "stream",
     "text": [
      "ResNet(\n",
      "  (conv1): Conv2d(3, 64, kernel_size=(7, 7), stride=(2, 2), padding=(3, 3), bias=False)\n",
      "  (bn1): BatchNorm2d(64, eps=1e-05, momentum=0.1, affine=True, track_running_stats=True)\n",
      "  (relu): ReLU(inplace=True)\n",
      "  (maxpool): MaxPool2d(kernel_size=3, stride=2, padding=1, dilation=1, ceil_mode=False)\n",
      "  (layer1): Sequential(\n",
      "    (0): BasicBlock(\n",
      "      (conv1): Conv2d(64, 64, kernel_size=(3, 3), stride=(1, 1), padding=(1, 1), bias=False)\n",
      "      (bn1): BatchNorm2d(64, eps=1e-05, momentum=0.1, affine=True, track_running_stats=True)\n",
      "      (relu): ReLU(inplace=True)\n",
      "      (conv2): Conv2d(64, 64, kernel_size=(3, 3), stride=(1, 1), padding=(1, 1), bias=False)\n",
      "      (bn2): BatchNorm2d(64, eps=1e-05, momentum=0.1, affine=True, track_running_stats=True)\n",
      "    )\n",
      "    (1): BasicBlock(\n",
      "      (conv1): Conv2d(64, 64, kernel_size=(3, 3), stride=(1, 1), padding=(1, 1), bias=False)\n",
      "      (bn1): BatchNorm2d(64, eps=1e-05, momentum=0.1, affine=True, track_running_stats=True)\n",
      "      (relu): ReLU(inplace=True)\n",
      "      (conv2): Conv2d(64, 64, kernel_size=(3, 3), stride=(1, 1), padding=(1, 1), bias=False)\n",
      "      (bn2): BatchNorm2d(64, eps=1e-05, momentum=0.1, affine=True, track_running_stats=True)\n",
      "    )\n",
      "  )\n",
      "  (layer2): Sequential(\n",
      "    (0): BasicBlock(\n",
      "      (conv1): Conv2d(64, 128, kernel_size=(3, 3), stride=(2, 2), padding=(1, 1), bias=False)\n",
      "      (bn1): BatchNorm2d(128, eps=1e-05, momentum=0.1, affine=True, track_running_stats=True)\n",
      "      (relu): ReLU(inplace=True)\n",
      "      (conv2): Conv2d(128, 128, kernel_size=(3, 3), stride=(1, 1), padding=(1, 1), bias=False)\n",
      "      (bn2): BatchNorm2d(128, eps=1e-05, momentum=0.1, affine=True, track_running_stats=True)\n",
      "      (downsample): Sequential(\n",
      "        (0): Conv2d(64, 128, kernel_size=(1, 1), stride=(2, 2), bias=False)\n",
      "        (1): BatchNorm2d(128, eps=1e-05, momentum=0.1, affine=True, track_running_stats=True)\n",
      "      )\n",
      "    )\n",
      "    (1): BasicBlock(\n",
      "      (conv1): Conv2d(128, 128, kernel_size=(3, 3), stride=(1, 1), padding=(1, 1), bias=False)\n",
      "      (bn1): BatchNorm2d(128, eps=1e-05, momentum=0.1, affine=True, track_running_stats=True)\n",
      "      (relu): ReLU(inplace=True)\n",
      "      (conv2): Conv2d(128, 128, kernel_size=(3, 3), stride=(1, 1), padding=(1, 1), bias=False)\n",
      "      (bn2): BatchNorm2d(128, eps=1e-05, momentum=0.1, affine=True, track_running_stats=True)\n",
      "    )\n",
      "  )\n",
      "  (layer3): Sequential(\n",
      "    (0): BasicBlock(\n",
      "      (conv1): Conv2d(128, 256, kernel_size=(3, 3), stride=(2, 2), padding=(1, 1), bias=False)\n",
      "      (bn1): BatchNorm2d(256, eps=1e-05, momentum=0.1, affine=True, track_running_stats=True)\n",
      "      (relu): ReLU(inplace=True)\n",
      "      (conv2): Conv2d(256, 256, kernel_size=(3, 3), stride=(1, 1), padding=(1, 1), bias=False)\n",
      "      (bn2): BatchNorm2d(256, eps=1e-05, momentum=0.1, affine=True, track_running_stats=True)\n",
      "      (downsample): Sequential(\n",
      "        (0): Conv2d(128, 256, kernel_size=(1, 1), stride=(2, 2), bias=False)\n",
      "        (1): BatchNorm2d(256, eps=1e-05, momentum=0.1, affine=True, track_running_stats=True)\n",
      "      )\n",
      "    )\n",
      "    (1): BasicBlock(\n",
      "      (conv1): Conv2d(256, 256, kernel_size=(3, 3), stride=(1, 1), padding=(1, 1), bias=False)\n",
      "      (bn1): BatchNorm2d(256, eps=1e-05, momentum=0.1, affine=True, track_running_stats=True)\n",
      "      (relu): ReLU(inplace=True)\n",
      "      (conv2): Conv2d(256, 256, kernel_size=(3, 3), stride=(1, 1), padding=(1, 1), bias=False)\n",
      "      (bn2): BatchNorm2d(256, eps=1e-05, momentum=0.1, affine=True, track_running_stats=True)\n",
      "    )\n",
      "  )\n",
      "  (layer4): Sequential(\n",
      "    (0): BasicBlock(\n",
      "      (conv1): Conv2d(256, 512, kernel_size=(3, 3), stride=(2, 2), padding=(1, 1), bias=False)\n",
      "      (bn1): BatchNorm2d(512, eps=1e-05, momentum=0.1, affine=True, track_running_stats=True)\n",
      "      (relu): ReLU(inplace=True)\n",
      "      (conv2): Conv2d(512, 512, kernel_size=(3, 3), stride=(1, 1), padding=(1, 1), bias=False)\n",
      "      (bn2): BatchNorm2d(512, eps=1e-05, momentum=0.1, affine=True, track_running_stats=True)\n",
      "      (downsample): Sequential(\n",
      "        (0): Conv2d(256, 512, kernel_size=(1, 1), stride=(2, 2), bias=False)\n",
      "        (1): BatchNorm2d(512, eps=1e-05, momentum=0.1, affine=True, track_running_stats=True)\n",
      "      )\n",
      "    )\n",
      "    (1): BasicBlock(\n",
      "      (conv1): Conv2d(512, 512, kernel_size=(3, 3), stride=(1, 1), padding=(1, 1), bias=False)\n",
      "      (bn1): BatchNorm2d(512, eps=1e-05, momentum=0.1, affine=True, track_running_stats=True)\n",
      "      (relu): ReLU(inplace=True)\n",
      "      (conv2): Conv2d(512, 512, kernel_size=(3, 3), stride=(1, 1), padding=(1, 1), bias=False)\n",
      "      (bn2): BatchNorm2d(512, eps=1e-05, momentum=0.1, affine=True, track_running_stats=True)\n",
      "    )\n",
      "  )\n",
      "  (avgpool): AdaptiveAvgPool2d(output_size=(1, 1))\n",
      "  (fc): Linear(in_features=512, out_features=1000, bias=True)\n",
      ")\n"
     ]
    }
   ],
   "source": [
    "cnn = resnet18()\n",
    "print(cnn)"
   ]
  },
  {
   "cell_type": "markdown",
   "metadata": {},
   "source": [
    "Looks scary! But the only thing you need to change to make it work on CIFAR is the last layer.\n",
    "Currently the last layer is:\n",
    "```\n",
    "  (fc): Linear(in_features=512, out_features=1000, bias=True)\n",
    "```\n",
    "out_features is the number of classes. This models are developed for Imagenet, a dataset with 1000 classes. So this part of the model you need to adapt. Additionally, you need to add a log-softmax layer again, as we us negative log-likelihood as the training criterion. "
   ]
  },
  {
   "cell_type": "code",
   "execution_count": null,
   "metadata": {},
   "outputs": [],
   "source": [
    "#########################################################################\n",
    "# TODO: Adapt the Resnet to work on CIFAR\n",
    "#########################################################################\n",
    "cnn.fc = nn.Linear(cnn.fc.in_features, 100)\n",
    "cnn.add_module(name='log-softmax', module=nn.LogSoftmax())"
   ]
  },
  {
   "cell_type": "code",
   "execution_count": null,
   "metadata": {},
   "outputs": [
    {
     "data": {
      "text/plain": [
       "torch.Size([16, 100])"
      ]
     },
     "execution_count": 38,
     "metadata": {},
     "output_type": "execute_result"
    }
   ],
   "source": [
    "# This should print 'torch.Size([16, 10])'\n",
    "cnn(torch.randn(16,3,32,32)).shape"
   ]
  },
  {
   "cell_type": "code",
   "execution_count": null,
   "metadata": {},
   "outputs": [
    {
     "name": "stdout",
     "output_type": "stream",
     "text": [
      "Train Epoch: 1 [0/50000 (0%)]\tLoss: 603.582825\n",
      "Train Epoch: 1 [12800/50000 (26%)]\tLoss: 294.525574\n",
      "Train Epoch: 1 [25600/50000 (51%)]\tLoss: 265.822784\n",
      "Train Epoch: 1 [38400/50000 (77%)]\tLoss: 224.549881\n",
      "\n",
      "Train set: Average loss: 2.3235, Accuracy: 10508/50000 (21.0%)\n",
      "\n",
      "\n",
      "Test set: Average loss: 1.7743, Accuracy: 3065/10000 (30.650%)\n",
      "\n",
      "Train Epoch: 2 [0/50000 (0%)]\tLoss: 230.197891\n",
      "Train Epoch: 2 [12800/50000 (26%)]\tLoss: 225.584320\n",
      "Train Epoch: 2 [25600/50000 (51%)]\tLoss: 201.067932\n",
      "Train Epoch: 2 [38400/50000 (77%)]\tLoss: 217.042252\n",
      "\n",
      "Train set: Average loss: 1.6951, Accuracy: 17853/50000 (35.7%)\n",
      "\n",
      "\n",
      "Test set: Average loss: 1.5121, Accuracy: 4348/10000 (43.480%)\n",
      "\n",
      "Train Epoch: 3 [0/50000 (0%)]\tLoss: 231.053177\n",
      "Train Epoch: 3 [12800/50000 (26%)]\tLoss: 191.036026\n",
      "Train Epoch: 3 [25600/50000 (51%)]\tLoss: 204.550522\n",
      "Train Epoch: 3 [38400/50000 (77%)]\tLoss: 187.219788\n",
      "\n",
      "Train set: Average loss: 1.5311, Accuracy: 21617/50000 (43.2%)\n",
      "\n",
      "\n",
      "Test set: Average loss: 1.4830, Accuracy: 4645/10000 (46.450%)\n",
      "\n",
      "Train Epoch: 4 [0/50000 (0%)]\tLoss: 199.889511\n",
      "Train Epoch: 4 [12800/50000 (26%)]\tLoss: 177.793304\n",
      "Train Epoch: 4 [25600/50000 (51%)]\tLoss: 170.028961\n",
      "Train Epoch: 4 [38400/50000 (77%)]\tLoss: 157.103470\n",
      "\n",
      "Train set: Average loss: 1.4004, Accuracy: 24596/50000 (49.2%)\n",
      "\n",
      "\n",
      "Test set: Average loss: 1.3718, Accuracy: 5175/10000 (51.750%)\n",
      "\n",
      "Train Epoch: 5 [0/50000 (0%)]\tLoss: 164.077255\n",
      "Train Epoch: 5 [12800/50000 (26%)]\tLoss: 166.860031\n",
      "Train Epoch: 5 [25600/50000 (51%)]\tLoss: 162.707535\n",
      "Train Epoch: 5 [38400/50000 (77%)]\tLoss: 164.160950\n",
      "\n",
      "Train set: Average loss: 1.2900, Accuracy: 26747/50000 (53.5%)\n",
      "\n",
      "\n",
      "Test set: Average loss: 1.1877, Accuracy: 5790/10000 (57.900%)\n",
      "\n",
      "Train Epoch: 6 [0/50000 (0%)]\tLoss: 158.665695\n",
      "Train Epoch: 6 [12800/50000 (26%)]\tLoss: 146.126907\n",
      "Train Epoch: 6 [25600/50000 (51%)]\tLoss: 151.185028\n",
      "Train Epoch: 6 [38400/50000 (77%)]\tLoss: 155.186417\n",
      "\n",
      "Train set: Average loss: 1.1860, Accuracy: 28910/50000 (57.8%)\n",
      "\n",
      "\n",
      "Test set: Average loss: 1.0907, Accuracy: 6160/10000 (61.600%)\n",
      "\n",
      "Train Epoch: 7 [0/50000 (0%)]\tLoss: 137.195801\n",
      "Train Epoch: 7 [12800/50000 (26%)]\tLoss: 175.061874\n",
      "Train Epoch: 7 [25600/50000 (51%)]\tLoss: 130.901962\n",
      "Train Epoch: 7 [38400/50000 (77%)]\tLoss: 111.580719\n",
      "\n",
      "Train set: Average loss: 1.1054, Accuracy: 30405/50000 (60.8%)\n",
      "\n",
      "\n",
      "Test set: Average loss: 1.0566, Accuracy: 6337/10000 (63.370%)\n",
      "\n",
      "Train Epoch: 8 [0/50000 (0%)]\tLoss: 136.329788\n",
      "Train Epoch: 8 [12800/50000 (26%)]\tLoss: 132.727097\n",
      "Train Epoch: 8 [25600/50000 (51%)]\tLoss: 125.825363\n",
      "Train Epoch: 8 [38400/50000 (77%)]\tLoss: 139.145126\n",
      "\n",
      "Train set: Average loss: 1.0401, Accuracy: 31691/50000 (63.4%)\n",
      "\n",
      "\n",
      "Test set: Average loss: 1.0168, Accuracy: 6555/10000 (65.550%)\n",
      "\n",
      "Train Epoch: 9 [0/50000 (0%)]\tLoss: 122.820992\n",
      "Train Epoch: 9 [12800/50000 (26%)]\tLoss: 125.652763\n",
      "Train Epoch: 9 [25600/50000 (51%)]\tLoss: 134.493149\n",
      "Train Epoch: 9 [38400/50000 (77%)]\tLoss: 110.132706\n",
      "\n",
      "Train set: Average loss: 0.9853, Accuracy: 32791/50000 (65.6%)\n",
      "\n",
      "\n",
      "Test set: Average loss: 0.9177, Accuracy: 6791/10000 (67.910%)\n",
      "\n",
      "Train Epoch: 10 [0/50000 (0%)]\tLoss: 112.457649\n",
      "Train Epoch: 10 [12800/50000 (26%)]\tLoss: 117.597610\n",
      "Train Epoch: 10 [25600/50000 (51%)]\tLoss: 88.440872\n",
      "Train Epoch: 10 [38400/50000 (77%)]\tLoss: 121.778877\n",
      "\n",
      "Train set: Average loss: 0.9465, Accuracy: 33344/50000 (66.7%)\n",
      "\n",
      "\n",
      "Test set: Average loss: 0.9905, Accuracy: 6595/10000 (65.950%)\n",
      "\n",
      "Train Epoch: 11 [0/50000 (0%)]\tLoss: 112.155151\n",
      "Train Epoch: 11 [12800/50000 (26%)]\tLoss: 107.973076\n",
      "Train Epoch: 11 [25600/50000 (51%)]\tLoss: 118.025513\n",
      "Train Epoch: 11 [38400/50000 (77%)]\tLoss: 117.921127\n",
      "\n",
      "Train set: Average loss: 0.9059, Accuracy: 34190/50000 (68.4%)\n",
      "\n",
      "\n",
      "Test set: Average loss: 0.8500, Accuracy: 7066/10000 (70.660%)\n",
      "\n",
      "Train Epoch: 12 [0/50000 (0%)]\tLoss: 90.604630\n",
      "Train Epoch: 12 [12800/50000 (26%)]\tLoss: 111.172997\n",
      "Train Epoch: 12 [25600/50000 (51%)]\tLoss: 120.172813\n",
      "Train Epoch: 12 [38400/50000 (77%)]\tLoss: 86.599075\n",
      "\n",
      "Train set: Average loss: 0.8641, Accuracy: 34849/50000 (69.7%)\n",
      "\n",
      "\n",
      "Test set: Average loss: 0.8429, Accuracy: 7121/10000 (71.210%)\n",
      "\n",
      "Train Epoch: 13 [0/50000 (0%)]\tLoss: 101.298256\n",
      "Train Epoch: 13 [12800/50000 (26%)]\tLoss: 112.109116\n",
      "Train Epoch: 13 [25600/50000 (51%)]\tLoss: 119.768761\n",
      "Train Epoch: 13 [38400/50000 (77%)]\tLoss: 98.045097\n",
      "\n",
      "Train set: Average loss: 0.8236, Accuracy: 35752/50000 (71.5%)\n",
      "\n",
      "\n",
      "Test set: Average loss: 0.8706, Accuracy: 7046/10000 (70.460%)\n",
      "\n",
      "Train Epoch: 14 [0/50000 (0%)]\tLoss: 103.232208\n",
      "Train Epoch: 14 [12800/50000 (26%)]\tLoss: 113.930954\n",
      "Train Epoch: 14 [25600/50000 (51%)]\tLoss: 107.099220\n",
      "Train Epoch: 14 [38400/50000 (77%)]\tLoss: 108.146271\n",
      "\n",
      "Train set: Average loss: 0.8030, Accuracy: 36019/50000 (72.0%)\n",
      "\n",
      "\n",
      "Test set: Average loss: 0.8041, Accuracy: 7257/10000 (72.570%)\n",
      "\n",
      "Train Epoch: 15 [0/50000 (0%)]\tLoss: 105.037186\n",
      "Train Epoch: 15 [12800/50000 (26%)]\tLoss: 86.155273\n",
      "Train Epoch: 15 [25600/50000 (51%)]\tLoss: 84.708351\n",
      "Train Epoch: 15 [38400/50000 (77%)]\tLoss: 118.330429\n",
      "\n",
      "Train set: Average loss: 0.7810, Accuracy: 36503/50000 (73.0%)\n",
      "\n",
      "\n",
      "Test set: Average loss: 0.7551, Accuracy: 7384/10000 (73.840%)\n",
      "\n",
      "Train Epoch: 16 [0/50000 (0%)]\tLoss: 108.155754\n",
      "Train Epoch: 16 [12800/50000 (26%)]\tLoss: 102.471420\n",
      "Train Epoch: 16 [25600/50000 (51%)]\tLoss: 120.175842\n",
      "Train Epoch: 16 [38400/50000 (77%)]\tLoss: 94.943993\n",
      "\n",
      "Train set: Average loss: 0.7570, Accuracy: 36953/50000 (73.9%)\n",
      "\n",
      "\n",
      "Test set: Average loss: 0.8307, Accuracy: 7248/10000 (72.480%)\n",
      "\n",
      "Train Epoch: 17 [0/50000 (0%)]\tLoss: 97.868042\n",
      "Train Epoch: 17 [12800/50000 (26%)]\tLoss: 89.884468\n",
      "Train Epoch: 17 [25600/50000 (51%)]\tLoss: 97.536331\n",
      "Train Epoch: 17 [38400/50000 (77%)]\tLoss: 97.998306\n",
      "\n",
      "Train set: Average loss: 0.7227, Accuracy: 37551/50000 (75.1%)\n",
      "\n",
      "\n",
      "Test set: Average loss: 0.7945, Accuracy: 7324/10000 (73.240%)\n",
      "\n",
      "Train Epoch: 18 [0/50000 (0%)]\tLoss: 77.563766\n",
      "Train Epoch: 18 [12800/50000 (26%)]\tLoss: 104.859589\n",
      "Train Epoch: 18 [25600/50000 (51%)]\tLoss: 88.068031\n",
      "Train Epoch: 18 [38400/50000 (77%)]\tLoss: 90.393288\n",
      "\n",
      "Train set: Average loss: 0.7106, Accuracy: 37770/50000 (75.5%)\n",
      "\n",
      "\n",
      "Test set: Average loss: 0.7453, Accuracy: 7433/10000 (74.330%)\n",
      "\n",
      "Train Epoch: 19 [0/50000 (0%)]\tLoss: 90.200714\n",
      "Train Epoch: 19 [12800/50000 (26%)]\tLoss: 83.790329\n",
      "Train Epoch: 19 [25600/50000 (51%)]\tLoss: 85.971764\n",
      "Train Epoch: 19 [38400/50000 (77%)]\tLoss: 74.623322\n",
      "\n",
      "Train set: Average loss: 0.6891, Accuracy: 38082/50000 (76.2%)\n",
      "\n",
      "\n",
      "Test set: Average loss: 0.7684, Accuracy: 7443/10000 (74.430%)\n",
      "\n",
      "Train Epoch: 20 [0/50000 (0%)]\tLoss: 74.249916\n",
      "Train Epoch: 20 [12800/50000 (26%)]\tLoss: 92.647308\n",
      "Train Epoch: 20 [25600/50000 (51%)]\tLoss: 93.551361\n",
      "Train Epoch: 20 [38400/50000 (77%)]\tLoss: 103.784973\n",
      "\n",
      "Train set: Average loss: 0.6716, Accuracy: 38407/50000 (76.8%)\n",
      "\n",
      "\n",
      "Test set: Average loss: 0.7906, Accuracy: 7351/10000 (73.510%)\n",
      "\n",
      "Train Epoch: 21 [0/50000 (0%)]\tLoss: 77.785118\n",
      "Train Epoch: 21 [12800/50000 (26%)]\tLoss: 72.781235\n",
      "Train Epoch: 21 [25600/50000 (51%)]\tLoss: 77.446701\n",
      "Train Epoch: 21 [38400/50000 (77%)]\tLoss: 67.980042\n",
      "\n",
      "Train set: Average loss: 0.6616, Accuracy: 38524/50000 (77.0%)\n",
      "\n",
      "\n",
      "Test set: Average loss: 0.7453, Accuracy: 7468/10000 (74.680%)\n",
      "\n",
      "Train Epoch: 22 [0/50000 (0%)]\tLoss: 88.922256\n",
      "Train Epoch: 22 [12800/50000 (26%)]\tLoss: 77.962944\n",
      "Train Epoch: 22 [25600/50000 (51%)]\tLoss: 81.612320\n",
      "Train Epoch: 22 [38400/50000 (77%)]\tLoss: 76.304100\n",
      "\n",
      "Train set: Average loss: 0.6352, Accuracy: 38966/50000 (77.9%)\n",
      "\n",
      "\n",
      "Test set: Average loss: 0.7040, Accuracy: 7613/10000 (76.130%)\n",
      "\n",
      "Train Epoch: 23 [0/50000 (0%)]\tLoss: 94.892883\n",
      "Train Epoch: 23 [12800/50000 (26%)]\tLoss: 77.164925\n",
      "Train Epoch: 23 [25600/50000 (51%)]\tLoss: 54.647091\n",
      "Train Epoch: 23 [38400/50000 (77%)]\tLoss: 66.610596\n",
      "\n",
      "Train set: Average loss: 0.6218, Accuracy: 39337/50000 (78.7%)\n",
      "\n",
      "\n",
      "Test set: Average loss: 0.6826, Accuracy: 7773/10000 (77.730%)\n",
      "\n",
      "Train Epoch: 24 [0/50000 (0%)]\tLoss: 80.901596\n",
      "Train Epoch: 24 [12800/50000 (26%)]\tLoss: 81.069557\n",
      "Train Epoch: 24 [25600/50000 (51%)]\tLoss: 82.267883\n",
      "Train Epoch: 24 [38400/50000 (77%)]\tLoss: 74.138687\n",
      "\n",
      "Train set: Average loss: 0.6097, Accuracy: 39591/50000 (79.2%)\n",
      "\n",
      "\n",
      "Test set: Average loss: 0.6562, Accuracy: 7837/10000 (78.370%)\n",
      "\n",
      "Train Epoch: 25 [0/50000 (0%)]\tLoss: 71.082535\n",
      "Train Epoch: 25 [12800/50000 (26%)]\tLoss: 114.154877\n",
      "Train Epoch: 25 [25600/50000 (51%)]\tLoss: 66.587143\n",
      "Train Epoch: 25 [38400/50000 (77%)]\tLoss: 72.804565\n",
      "\n",
      "Train set: Average loss: 0.6044, Accuracy: 39635/50000 (79.3%)\n",
      "\n",
      "\n",
      "Test set: Average loss: 0.6698, Accuracy: 7726/10000 (77.260%)\n",
      "\n",
      "Train Epoch: 26 [0/50000 (0%)]\tLoss: 55.047291\n",
      "Train Epoch: 26 [12800/50000 (26%)]\tLoss: 75.234406\n",
      "Train Epoch: 26 [25600/50000 (51%)]\tLoss: 77.583290\n",
      "Train Epoch: 26 [38400/50000 (77%)]\tLoss: 78.596413\n",
      "\n",
      "Train set: Average loss: 0.5867, Accuracy: 39986/50000 (80.0%)\n",
      "\n",
      "\n",
      "Test set: Average loss: 0.6970, Accuracy: 7688/10000 (76.880%)\n",
      "\n",
      "Train Epoch: 27 [0/50000 (0%)]\tLoss: 77.103592\n",
      "Train Epoch: 27 [12800/50000 (26%)]\tLoss: 66.987091\n",
      "Train Epoch: 27 [25600/50000 (51%)]\tLoss: 72.299202\n",
      "Train Epoch: 27 [38400/50000 (77%)]\tLoss: 99.878464\n",
      "\n",
      "Train set: Average loss: 0.5716, Accuracy: 40160/50000 (80.3%)\n",
      "\n",
      "\n",
      "Test set: Average loss: 0.6461, Accuracy: 7852/10000 (78.520%)\n",
      "\n",
      "Train Epoch: 28 [0/50000 (0%)]\tLoss: 68.218071\n",
      "Train Epoch: 28 [12800/50000 (26%)]\tLoss: 69.418373\n",
      "Train Epoch: 28 [25600/50000 (51%)]\tLoss: 79.030785\n",
      "Train Epoch: 28 [38400/50000 (77%)]\tLoss: 84.019821\n",
      "\n",
      "Train set: Average loss: 0.5648, Accuracy: 40297/50000 (80.6%)\n",
      "\n",
      "\n",
      "Test set: Average loss: 0.6516, Accuracy: 7870/10000 (78.700%)\n",
      "\n",
      "Train Epoch: 29 [0/50000 (0%)]\tLoss: 51.027489\n",
      "Train Epoch: 29 [12800/50000 (26%)]\tLoss: 83.908585\n",
      "Train Epoch: 29 [25600/50000 (51%)]\tLoss: 77.119286\n",
      "Train Epoch: 29 [38400/50000 (77%)]\tLoss: 86.304527\n",
      "\n",
      "Train set: Average loss: 0.5545, Accuracy: 40467/50000 (80.9%)\n",
      "\n",
      "\n",
      "Test set: Average loss: 0.6926, Accuracy: 7727/10000 (77.270%)\n",
      "\n",
      "Train Epoch: 30 [0/50000 (0%)]\tLoss: 73.465729\n",
      "Train Epoch: 30 [12800/50000 (26%)]\tLoss: 99.835182\n",
      "Train Epoch: 30 [25600/50000 (51%)]\tLoss: 75.260582\n",
      "Train Epoch: 30 [38400/50000 (77%)]\tLoss: 76.713829\n",
      "\n",
      "Train set: Average loss: 0.5434, Accuracy: 40625/50000 (81.2%)\n",
      "\n",
      "\n",
      "Test set: Average loss: 0.6690, Accuracy: 7749/10000 (77.490%)\n",
      "\n",
      "Train Epoch: 31 [0/50000 (0%)]\tLoss: 82.042404\n",
      "Train Epoch: 31 [12800/50000 (26%)]\tLoss: 77.007080\n",
      "Train Epoch: 31 [25600/50000 (51%)]\tLoss: 71.969971\n",
      "Train Epoch: 31 [38400/50000 (77%)]\tLoss: 54.338444\n",
      "\n",
      "Train set: Average loss: 0.5355, Accuracy: 40774/50000 (81.5%)\n",
      "\n",
      "\n",
      "Test set: Average loss: 0.6357, Accuracy: 7881/10000 (78.810%)\n",
      "\n",
      "Train Epoch: 32 [0/50000 (0%)]\tLoss: 64.471687\n",
      "Train Epoch: 32 [12800/50000 (26%)]\tLoss: 56.198879\n",
      "Train Epoch: 32 [25600/50000 (51%)]\tLoss: 55.281971\n",
      "Train Epoch: 32 [38400/50000 (77%)]\tLoss: 68.350494\n",
      "\n",
      "Train set: Average loss: 0.5191, Accuracy: 41072/50000 (82.1%)\n",
      "\n",
      "\n",
      "Test set: Average loss: 0.6350, Accuracy: 7944/10000 (79.440%)\n",
      "\n",
      "Train Epoch: 33 [0/50000 (0%)]\tLoss: 57.979683\n",
      "Train Epoch: 33 [12800/50000 (26%)]\tLoss: 49.518719\n",
      "Train Epoch: 33 [25600/50000 (51%)]\tLoss: 55.131413\n",
      "Train Epoch: 33 [38400/50000 (77%)]\tLoss: 78.312279\n",
      "\n",
      "Train set: Average loss: 0.5117, Accuracy: 41178/50000 (82.4%)\n",
      "\n",
      "\n",
      "Test set: Average loss: 0.6063, Accuracy: 8006/10000 (80.060%)\n",
      "\n",
      "Train Epoch: 34 [0/50000 (0%)]\tLoss: 67.710762\n",
      "Train Epoch: 34 [12800/50000 (26%)]\tLoss: 70.469566\n",
      "Train Epoch: 34 [25600/50000 (51%)]\tLoss: 76.331764\n",
      "Train Epoch: 34 [38400/50000 (77%)]\tLoss: 53.765656\n",
      "\n",
      "Train set: Average loss: 0.5015, Accuracy: 41341/50000 (82.7%)\n",
      "\n",
      "\n",
      "Test set: Average loss: 0.5915, Accuracy: 8045/10000 (80.450%)\n",
      "\n",
      "Train Epoch: 35 [0/50000 (0%)]\tLoss: 67.188950\n",
      "Train Epoch: 35 [12800/50000 (26%)]\tLoss: 73.766754\n",
      "Train Epoch: 35 [25600/50000 (51%)]\tLoss: 65.522850\n",
      "Train Epoch: 35 [38400/50000 (77%)]\tLoss: 40.751553\n",
      "\n",
      "Train set: Average loss: 0.4944, Accuracy: 41411/50000 (82.8%)\n",
      "\n",
      "\n",
      "Test set: Average loss: 0.6187, Accuracy: 7954/10000 (79.540%)\n",
      "\n",
      "Train Epoch: 36 [0/50000 (0%)]\tLoss: 62.249020\n",
      "Train Epoch: 36 [12800/50000 (26%)]\tLoss: 53.862862\n",
      "Train Epoch: 36 [25600/50000 (51%)]\tLoss: 61.432026\n",
      "Train Epoch: 36 [38400/50000 (77%)]\tLoss: 72.989098\n",
      "\n",
      "Train set: Average loss: 0.4857, Accuracy: 41586/50000 (83.2%)\n",
      "\n",
      "\n",
      "Test set: Average loss: 0.6049, Accuracy: 8040/10000 (80.400%)\n",
      "\n",
      "Train Epoch: 37 [0/50000 (0%)]\tLoss: 57.996826\n",
      "Train Epoch: 37 [12800/50000 (26%)]\tLoss: 58.916763\n",
      "Train Epoch: 37 [25600/50000 (51%)]\tLoss: 56.701286\n",
      "Train Epoch: 37 [38400/50000 (77%)]\tLoss: 76.288437\n",
      "\n",
      "Train set: Average loss: 0.4842, Accuracy: 41590/50000 (83.2%)\n",
      "\n",
      "\n",
      "Test set: Average loss: 0.6082, Accuracy: 8047/10000 (80.470%)\n",
      "\n",
      "Train Epoch: 38 [0/50000 (0%)]\tLoss: 54.454845\n",
      "Train Epoch: 38 [12800/50000 (26%)]\tLoss: 63.861580\n",
      "Train Epoch: 38 [25600/50000 (51%)]\tLoss: 64.401871\n",
      "Train Epoch: 38 [38400/50000 (77%)]\tLoss: 83.444084\n",
      "\n",
      "Train set: Average loss: 0.4719, Accuracy: 41845/50000 (83.7%)\n",
      "\n",
      "\n",
      "Test set: Average loss: 0.6014, Accuracy: 8068/10000 (80.680%)\n",
      "\n",
      "Train Epoch: 39 [0/50000 (0%)]\tLoss: 61.342072\n",
      "Train Epoch: 39 [12800/50000 (26%)]\tLoss: 62.563034\n",
      "Train Epoch: 39 [25600/50000 (51%)]\tLoss: 59.040169\n",
      "Train Epoch: 39 [38400/50000 (77%)]\tLoss: 53.334690\n",
      "\n",
      "Train set: Average loss: 0.4608, Accuracy: 42030/50000 (84.1%)\n",
      "\n",
      "\n",
      "Test set: Average loss: 0.6550, Accuracy: 7869/10000 (78.690%)\n",
      "\n",
      "Train Epoch: 40 [0/50000 (0%)]\tLoss: 61.796860\n",
      "Train Epoch: 40 [12800/50000 (26%)]\tLoss: 56.987801\n",
      "Train Epoch: 40 [25600/50000 (51%)]\tLoss: 41.829433\n",
      "Train Epoch: 40 [38400/50000 (77%)]\tLoss: 69.293800\n",
      "\n",
      "Train set: Average loss: 0.4602, Accuracy: 42055/50000 (84.1%)\n",
      "\n",
      "\n",
      "Test set: Average loss: 0.6211, Accuracy: 7960/10000 (79.600%)\n",
      "\n",
      "Train Epoch: 41 [0/50000 (0%)]\tLoss: 45.909203\n",
      "Train Epoch: 41 [12800/50000 (26%)]\tLoss: 68.134346\n",
      "Train Epoch: 41 [25600/50000 (51%)]\tLoss: 62.839447\n",
      "Train Epoch: 41 [38400/50000 (77%)]\tLoss: 52.231716\n",
      "\n",
      "Train set: Average loss: 0.4462, Accuracy: 42251/50000 (84.5%)\n",
      "\n",
      "\n",
      "Test set: Average loss: 0.6044, Accuracy: 8037/10000 (80.370%)\n",
      "\n",
      "Train Epoch: 42 [0/50000 (0%)]\tLoss: 74.157135\n",
      "Train Epoch: 42 [12800/50000 (26%)]\tLoss: 42.733673\n",
      "Train Epoch: 42 [25600/50000 (51%)]\tLoss: 72.199539\n",
      "Train Epoch: 42 [38400/50000 (77%)]\tLoss: 74.584511\n",
      "\n",
      "Train set: Average loss: 0.4441, Accuracy: 42377/50000 (84.8%)\n",
      "\n",
      "\n",
      "Test set: Average loss: 0.5829, Accuracy: 8077/10000 (80.770%)\n",
      "\n",
      "Train Epoch: 43 [0/50000 (0%)]\tLoss: 22.443748\n",
      "Train Epoch: 43 [12800/50000 (26%)]\tLoss: 51.814270\n",
      "Train Epoch: 43 [25600/50000 (51%)]\tLoss: 44.740662\n",
      "Train Epoch: 43 [38400/50000 (77%)]\tLoss: 43.366535\n",
      "\n",
      "Train set: Average loss: 0.4330, Accuracy: 42473/50000 (84.9%)\n",
      "\n",
      "\n",
      "Test set: Average loss: 0.5786, Accuracy: 8110/10000 (81.100%)\n",
      "\n",
      "Train Epoch: 44 [0/50000 (0%)]\tLoss: 72.807777\n",
      "Train Epoch: 44 [12800/50000 (26%)]\tLoss: 42.952335\n",
      "Train Epoch: 44 [25600/50000 (51%)]\tLoss: 65.523392\n",
      "Train Epoch: 44 [38400/50000 (77%)]\tLoss: 62.815517\n",
      "\n",
      "Train set: Average loss: 0.4233, Accuracy: 42641/50000 (85.3%)\n",
      "\n",
      "\n",
      "Test set: Average loss: 0.5939, Accuracy: 8134/10000 (81.340%)\n",
      "\n",
      "Train Epoch: 45 [0/50000 (0%)]\tLoss: 69.702324\n",
      "Train Epoch: 45 [12800/50000 (26%)]\tLoss: 51.189548\n",
      "Train Epoch: 45 [25600/50000 (51%)]\tLoss: 39.048046\n",
      "Train Epoch: 45 [38400/50000 (77%)]\tLoss: 59.587284\n",
      "\n",
      "Train set: Average loss: 0.4232, Accuracy: 42659/50000 (85.3%)\n",
      "\n",
      "\n",
      "Test set: Average loss: 0.6672, Accuracy: 7902/10000 (79.020%)\n",
      "\n",
      "Train Epoch: 46 [0/50000 (0%)]\tLoss: 62.416985\n",
      "Train Epoch: 46 [12800/50000 (26%)]\tLoss: 56.435047\n",
      "Train Epoch: 46 [25600/50000 (51%)]\tLoss: 49.771454\n",
      "Train Epoch: 46 [38400/50000 (77%)]\tLoss: 46.056313\n",
      "\n",
      "Train set: Average loss: 0.4218, Accuracy: 42641/50000 (85.3%)\n",
      "\n",
      "\n",
      "Test set: Average loss: 0.5685, Accuracy: 8133/10000 (81.330%)\n",
      "\n",
      "Train Epoch: 47 [0/50000 (0%)]\tLoss: 70.740387\n",
      "Train Epoch: 47 [12800/50000 (26%)]\tLoss: 39.202091\n",
      "Train Epoch: 47 [25600/50000 (51%)]\tLoss: 38.115299\n",
      "Train Epoch: 47 [38400/50000 (77%)]\tLoss: 46.056355\n",
      "\n",
      "Train set: Average loss: 0.4088, Accuracy: 43004/50000 (86.0%)\n",
      "\n",
      "\n",
      "Test set: Average loss: 0.6205, Accuracy: 8044/10000 (80.440%)\n",
      "\n",
      "Train Epoch: 48 [0/50000 (0%)]\tLoss: 55.598091\n",
      "Train Epoch: 48 [12800/50000 (26%)]\tLoss: 49.098789\n",
      "Train Epoch: 48 [25600/50000 (51%)]\tLoss: 29.025080\n",
      "Train Epoch: 48 [38400/50000 (77%)]\tLoss: 49.140091\n",
      "\n",
      "Train set: Average loss: 0.4054, Accuracy: 42933/50000 (85.9%)\n",
      "\n",
      "\n",
      "Test set: Average loss: 0.6151, Accuracy: 8026/10000 (80.260%)\n",
      "\n",
      "Train Epoch: 49 [0/50000 (0%)]\tLoss: 42.935844\n",
      "Train Epoch: 49 [12800/50000 (26%)]\tLoss: 49.905186\n",
      "Train Epoch: 49 [25600/50000 (51%)]\tLoss: 45.422825\n",
      "Train Epoch: 49 [38400/50000 (77%)]\tLoss: 51.034428\n",
      "\n",
      "Train set: Average loss: 0.3971, Accuracy: 43111/50000 (86.2%)\n",
      "\n",
      "\n",
      "Test set: Average loss: 0.6310, Accuracy: 8052/10000 (80.520%)\n",
      "\n",
      "Train Epoch: 50 [0/50000 (0%)]\tLoss: 43.902943\n",
      "Train Epoch: 50 [12800/50000 (26%)]\tLoss: 53.190674\n",
      "Train Epoch: 50 [25600/50000 (51%)]\tLoss: 37.542309\n",
      "Train Epoch: 50 [38400/50000 (77%)]\tLoss: 58.593956\n",
      "\n",
      "Train set: Average loss: 0.3952, Accuracy: 43093/50000 (86.2%)\n",
      "\n",
      "\n",
      "Test set: Average loss: 0.5618, Accuracy: 8163/10000 (81.630%)\n",
      "\n"
     ]
    }
   ],
   "source": [
    "device = 'cuda'\n",
    "if device == 'cuda': torch.backends.cudnn.benchmark = True # this gives us additional speed up\n",
    "\n",
    "optimizer = optim.Adam(cnn.parameters(), lr=0.1, weight_decay=5e-4, eps=10-7)\n",
    "scheduler = torch.optim.lr_scheduler.CosineAnnealingLR(optimizer, T_max=200)\n",
    "cnn = cnn.to(device)\n",
    "\n",
    "epochs = 50\n",
    "for epoch in range(1, epochs + 1):\n",
    "    train(cnn, dl_train, optimizer, epoch, log_interval=100, device=device)\n",
    "    test(cnn, dl_test, device=device)    \n",
    "    scheduler.step()"
   ]
  },
  {
   "cell_type": "markdown",
   "metadata": {},
   "source": [
    "This should get us well above 75%, the best we got was ~ 80%.\n",
    "\n",
    "Now, use different torchvision architectures, different optimizers (Adam is always a good choice), data augmentation techniques, and hyperparameter search to achieve a test accuracy of >90 %"
   ]
  },
  {
   "cell_type": "code",
   "execution_count": null,
   "metadata": {},
   "outputs": [],
   "source": []
  }
 ],
 "metadata": {
  "kernelspec": {
   "display_name": "Python 3.8.2 64-bit",
   "language": "python",
   "name": "python3"
  },
  "language_info": {
   "codemirror_mode": {
    "name": "ipython",
    "version": 3
   },
   "file_extension": ".py",
   "mimetype": "text/x-python",
   "name": "python",
   "nbconvert_exporter": "python",
   "pygments_lexer": "ipython3",
   "version": "3.8.2"
  },
  "vscode": {
   "interpreter": {
    "hash": "31f2aee4e71d21fbe5cf8b01ff0e069b9275f58929596ceb00d14d90e3e16cd6"
   }
  }
 },
 "nbformat": 4,
 "nbformat_minor": 4
}
