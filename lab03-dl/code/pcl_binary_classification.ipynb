{
 "cells": [
  {
   "cell_type": "markdown",
   "metadata": {},
   "source": [
    "# Point Cloud Binary Classification with PyTorch"
   ]
  },
  {
   "cell_type": "markdown",
   "metadata": {},
   "source": [
    "Make sure you are using the `dl4cv` conda environment."
   ]
  },
  {
   "cell_type": "markdown",
   "metadata": {},
   "source": [
    "## Dataset loading and visualization"
   ]
  },
  {
   "cell_type": "markdown",
   "metadata": {},
   "source": [
    "The input X contain 100 2D points, and y are their corresponding labels (0 or 1). The goal is to train a model that can classify every point to its correct label.\n"
   ]
  },
  {
   "cell_type": "code",
   "execution_count": 1,
   "metadata": {},
   "outputs": [
    {
     "name": "stderr",
     "output_type": "stream",
     "text": [
      "/home/cetaceanw/.local/lib/python3.8/site-packages/tqdm/auto.py:22: TqdmWarning: IProgress not found. Please update jupyter and ipywidgets. See https://ipywidgets.readthedocs.io/en/stable/user_install.html\n",
      "  from .autonotebook import tqdm as notebook_tqdm\n"
     ]
    },
    {
     "data": {
      "image/png": "[encoded data removed]",
      "text/plain": [
       "<Figure size 432x288 with 1 Axes>"
      ]
     },
     "metadata": {
      "needs_background": "light"
     },
     "output_type": "display_data"
    },
    {
     "data": {
      "text/plain": [
       "<Figure size 432x288 with 0 Axes>"
      ]
     },
     "metadata": {},
     "output_type": "display_data"
    }
   ],
   "source": [
    "%matplotlib inline\n",
    "import matplotlib.pyplot as plt\n",
    "import numpy as np\n",
    "import torch\n",
    "import torch.nn as nn\n",
    "import torch.nn.functional as F\n",
    "import torch.optim as optim\n",
    "from torch.utils.data import Dataset\n",
    "from torch.utils.data import DataLoader\n",
    "from torch.optim import Adam\n",
    "\n",
    "dataset = np.load('data/2d_pcl_dataset.npz')\n",
    "X, y = dataset['X'], dataset['y']\n",
    "\n",
    "X0 = X[y==0] # 50 2D points have label 0\n",
    "X1 = X[y==1] # 50 2D points have label 1\n",
    "\n",
    "def plot(X0, X1, fit_param=None):\n",
    "    plt.scatter(X0[:,0], X0[:,1], color='red', label=0)\n",
    "    plt.scatter(X1[:,0], X1[:,1], color='blue', label=1)\n",
    "    \n",
    "    plt.xlim([-0.55, 0.55])\n",
    "    plt.ylim([-0.35, 0.25])\n",
    "    plt.legend()\n",
    "    plt.show()\n",
    "    plt.clf()\n",
    "\n",
    "plot(X0, X1)"
   ]
  },
  {
   "cell_type": "markdown",
   "metadata": {},
   "source": [
    "## Logistic Regression for the point cloud classification task\n"
   ]
  },
  {
   "cell_type": "markdown",
   "metadata": {},
   "source": [
    "Starting by filling in the `Simple2DDataset` class below. First, in the class constructor `__init__`, you will need to read the right `2d_pcl_dataset.npz` from disk.\n",
    "\n",
    "Second, in the `__getitem__`, you will need to take a single data point and its label based on its index `idx`"
   ]
  },
  {
   "cell_type": "code",
   "execution_count": 2,
   "metadata": {},
   "outputs": [],
   "source": [
    "class Simple2DDataset(Dataset):\n",
    "    def __init__(self):\n",
    "        super().__init__()\n",
    "        #########################################################################\n",
    "        # TODO: read data from disk using np.load.\n",
    "        # Data is located in the folder \"data\".\n",
    "        # Save samples and labels to class members self.X and self.y respectively.\n",
    "        # samples should be an Nx2 numpy array. Labels should be Nx1.\n",
    "        #########################################################################\n",
    "        \n",
    "        dataset = np.load('data/2d_pcl_dataset.npz')\n",
    "        self.X, self.y = dataset['X'], dataset['y']\n",
    "     \n",
    "    def __len__(self):\n",
    "        # Returns the number of samples in the dataset.\n",
    "        return self.X.shape[0]\n",
    "    \n",
    "    def __getitem__(self, idx):\n",
    "        #########################################################################\n",
    "        # TODO: return the sample and label with index idx\n",
    "        #########################################################################\n",
    "        point = self.X[idx]\n",
    "        label = self.y[idx]\n",
    "        \n",
    "        # Convert to tensor.\n",
    "        return torch.from_numpy(point).float(), \\\n",
    "               torch.from_numpy(label[np.newaxis]).float()\n"
   ]
  },
  {
   "cell_type": "markdown",
   "metadata": {},
   "source": [
    "With the complete `Simple2DDataset`, we can create a PyTorch dataloader\n",
    "\n",
    "**NOTE**: if you encounter some unexpected errors in data loading, try setting `NUM_WORKERS = 0`"
   ]
  },
  {
   "cell_type": "code",
   "execution_count": 3,
   "metadata": {},
   "outputs": [],
   "source": [
    "BATCH_SIZE = 8\n",
    "NUM_WORKERS = 4\n",
    "\n",
    "# create the dataloader\n",
    "dataset = Simple2DDataset()\n",
    "train_dataloader = DataLoader(\n",
    "    dataset,\n",
    "    batch_size=BATCH_SIZE,\n",
    "    num_workers=NUM_WORKERS,\n",
    "    shuffle=True\n",
    ")"
   ]
  },
  {
   "cell_type": "markdown",
   "metadata": {},
   "source": [
    "Now, define your first network by filling in the `LinearClassifier` class below.\n",
    "\n",
    "Add a single linear layer `nn.Linear` inside the `nn.Sequential` call. The input is 2D, and the output should be a single value, corresponding to the probability of a given 2D point being part of cluster 0."
   ]
  },
  {
   "cell_type": "code",
   "execution_count": 4,
   "metadata": {},
   "outputs": [],
   "source": [
    "class LinearClassifier(nn.Module):\n",
    "    def __init__(self):\n",
    "        super().__init__()\n",
    "\n",
    "        self.codename = 'linear'\n",
    "\n",
    "        #########################################################################\n",
    "        # TODO: add a single linear layer with nn.Linear, inside the `nn.Sequential` call.\n",
    "        # Input is 2D.\n",
    "        # Output is a single value.\n",
    "        #########################################################################\n",
    "        self.model = nn.Sequential(\n",
    "            nn.Linear(2, 1)\n",
    "        )\n",
    "        \n",
    "    def forward(self, batch):\n",
    "        # Process batch using the defined model.\n",
    "        x = self.model(batch)\n",
    "        # Final sigmoid activation to obtain a probability between 0 and 1.\n",
    "        return torch.sigmoid(x)"
   ]
  },
  {
   "cell_type": "markdown",
   "metadata": {},
   "source": [
    "Now, you are asked to implement the training loop below"
   ]
  },
  {
   "cell_type": "code",
   "execution_count": 5,
   "metadata": {},
   "outputs": [],
   "source": [
    "def train(net, optimizer, dataloader, epoch):\n",
    "    net.train()\n",
    "    loss_sum = 0\n",
    "    for batch_idx, (point, label) in enumerate(dataloader):\n",
    "        # First we need to zero the gradient, otherwise PyTorch would accumulate them\n",
    "        optimizer.zero_grad()\n",
    "\n",
    "        #########################################################################\n",
    "        #TODO: \n",
    "        # 1. forward pass of the network to obtain the predictions given the batch\n",
    "        # 2. compute the loss using F.binary_cross_entropy\n",
    "        # 3. backward pass on the loss using loss.backward(), and one step \n",
    "        # of gradient descent (optimization) using optimizer.step()\n",
    "        #########################################################################\n",
    "\n",
    "        # Forward pass\n",
    "        pred = net(point)\n",
    "        loss = F.binary_cross_entropy(pred, label)\n",
    "\n",
    "        # Backward and optimize\n",
    "        loss.backward()\n",
    "        optimizer.step()\n",
    "\n",
    "        loss_sum += loss\n",
    "    return loss_sum\n",
    "        "
   ]
  },
  {
   "cell_type": "markdown",
   "metadata": {},
   "source": [
    "You can now run below to train the linear model."
   ]
  },
  {
   "cell_type": "code",
   "execution_count": 6,
   "metadata": {
    "scrolled": true,
    "tags": []
   },
   "outputs": [
    {
     "name": "stdout",
     "output_type": "stream",
     "text": [
      "[Epoch 01] Loss: 7.5877\n",
      "[Epoch 02] Loss: 6.2631\n",
      "[Epoch 03] Loss: 5.5634\n",
      "[Epoch 04] Loss: 4.9926\n",
      "[Epoch 05] Loss: 4.7750\n",
      "[Epoch 06] Loss: 4.5673\n",
      "[Epoch 07] Loss: 4.4448\n",
      "[Epoch 08] Loss: 4.3255\n",
      "[Epoch 09] Loss: 4.2291\n",
      "[Epoch 10] Loss: 4.0373\n",
      "[Epoch 11] Loss: 3.9023\n",
      "[Epoch 12] Loss: 4.1521\n",
      "[Epoch 13] Loss: 4.1233\n",
      "[Epoch 14] Loss: 3.8099\n",
      "[Epoch 15] Loss: 3.9807\n",
      "[Epoch 16] Loss: 3.6953\n",
      "[Epoch 17] Loss: 3.8218\n",
      "[Epoch 18] Loss: 3.6610\n",
      "[Epoch 19] Loss: 3.6171\n",
      "[Epoch 20] Loss: 3.5913\n",
      "[Epoch 21] Loss: 3.7457\n",
      "[Epoch 22] Loss: 3.8084\n",
      "[Epoch 23] Loss: 3.6485\n",
      "[Epoch 24] Loss: 3.5599\n",
      "[Epoch 25] Loss: 3.8482\n",
      "[Epoch 26] Loss: 3.6453\n",
      "[Epoch 27] Loss: 3.6192\n",
      "[Epoch 28] Loss: 3.5180\n",
      "[Epoch 29] Loss: 3.5332\n",
      "[Epoch 30] Loss: 3.4966\n",
      "[Epoch 31] Loss: 3.6657\n",
      "[Epoch 32] Loss: 3.5211\n",
      "[Epoch 33] Loss: 3.5205\n",
      "[Epoch 34] Loss: 3.5361\n",
      "[Epoch 35] Loss: 3.8742\n",
      "[Epoch 36] Loss: 3.4760\n",
      "[Epoch 37] Loss: 3.6376\n",
      "[Epoch 38] Loss: 3.6419\n",
      "[Epoch 39] Loss: 3.8930\n",
      "[Epoch 40] Loss: 3.4717\n",
      "[Epoch 41] Loss: 3.4972\n",
      "[Epoch 42] Loss: 3.5362\n",
      "[Epoch 43] Loss: 3.7545\n",
      "[Epoch 44] Loss: 3.4740\n",
      "[Epoch 45] Loss: 3.6190\n",
      "[Epoch 46] Loss: 3.7024\n",
      "[Epoch 47] Loss: 3.5208\n",
      "[Epoch 48] Loss: 3.5328\n",
      "[Epoch 49] Loss: 3.4990\n",
      "[Epoch 50] Loss: 3.4908\n",
      "[Epoch 51] Loss: 3.5905\n",
      "[Epoch 52] Loss: 3.4391\n",
      "[Epoch 53] Loss: 3.4719\n",
      "[Epoch 54] Loss: 3.5579\n",
      "[Epoch 55] Loss: 3.6342\n",
      "[Epoch 56] Loss: 4.0033\n",
      "[Epoch 57] Loss: 3.5799\n",
      "[Epoch 58] Loss: 3.5108\n",
      "[Epoch 59] Loss: 3.7878\n",
      "[Epoch 60] Loss: 3.8075\n",
      "[Epoch 61] Loss: 3.5404\n",
      "[Epoch 62] Loss: 3.7738\n",
      "[Epoch 63] Loss: 3.4395\n",
      "[Epoch 64] Loss: 3.5244\n",
      "[Epoch 65] Loss: 3.7045\n",
      "[Epoch 66] Loss: 3.4941\n",
      "[Epoch 67] Loss: 3.4984\n",
      "[Epoch 68] Loss: 3.5282\n",
      "[Epoch 69] Loss: 3.4899\n",
      "[Epoch 70] Loss: 3.4694\n",
      "[Epoch 71] Loss: 3.4597\n",
      "[Epoch 72] Loss: 3.4686\n",
      "[Epoch 73] Loss: 3.4671\n",
      "[Epoch 74] Loss: 3.4512\n",
      "[Epoch 75] Loss: 3.6197\n",
      "[Epoch 76] Loss: 3.6523\n",
      "[Epoch 77] Loss: 3.6572\n",
      "[Epoch 78] Loss: 3.8012\n",
      "[Epoch 79] Loss: 3.8186\n",
      "[Epoch 80] Loss: 3.5142\n",
      "[Epoch 81] Loss: 3.8427\n",
      "[Epoch 82] Loss: 3.6658\n",
      "[Epoch 83] Loss: 3.5859\n",
      "[Epoch 84] Loss: 3.7526\n",
      "[Epoch 85] Loss: 3.7770\n",
      "[Epoch 86] Loss: 3.6691\n",
      "[Epoch 87] Loss: 3.4285\n",
      "[Epoch 88] Loss: 3.4576\n",
      "[Epoch 89] Loss: 3.4319\n",
      "[Epoch 90] Loss: 3.5496\n",
      "[Epoch 91] Loss: 3.4331\n",
      "[Epoch 92] Loss: 3.7149\n",
      "[Epoch 93] Loss: 3.5608\n",
      "[Epoch 94] Loss: 3.4555\n",
      "[Epoch 95] Loss: 3.4661\n",
      "[Epoch 96] Loss: 3.6985\n",
      "[Epoch 97] Loss: 3.5756\n",
      "[Epoch 98] Loss: 3.9117\n",
      "[Epoch 99] Loss: 3.6547\n",
      "[Epoch 100] Loss: 3.4569\n"
     ]
    }
   ],
   "source": [
    "NUM_EPOCHS = 100\n",
    "# create the network.\n",
    "net = LinearClassifier()\n",
    "\n",
    "# create the optimizer.\n",
    "optimizer = Adam(net.parameters(), lr=0.1)\n",
    "\n",
    "best_accuracy = 0\n",
    "for epoch_idx in range(NUM_EPOCHS):\n",
    "    loss = train(net, optimizer, train_dataloader, epoch_idx)\n",
    "    print('[Epoch %02d] Loss: %.4f' % (epoch_idx + 1, loss))"
   ]
  },
  {
   "cell_type": "markdown",
   "metadata": {},
   "source": [
    "Now plot your result below.\n"
   ]
  },
  {
   "cell_type": "code",
   "execution_count": null,
   "metadata": {},
   "outputs": [],
   "source": []
  },
  {
   "cell_type": "code",
   "execution_count": 7,
   "metadata": {},
   "outputs": [
    {
     "data": {
      "image/png": "[encoded data removed]",
      "text/plain": [
       "<Figure size 432x288 with 1 Axes>"
      ]
     },
     "metadata": {
      "needs_background": "light"
     },
     "output_type": "display_data"
    },
    {
     "data": {
      "text/plain": [
       "<Figure size 432x288 with 0 Axes>"
      ]
     },
     "metadata": {},
     "output_type": "display_data"
    }
   ],
   "source": [
    "p = np.linspace(-0.5, 0.5, 500)\n",
    "x_plot, y_plot = np.meshgrid(p, p)\n",
    "X_plot = np.stack((x_plot, y_plot), axis=2).reshape(-1, 2)\n",
    "X_plot = torch.from_numpy(X_plot).float()\n",
    "output = net(X_plot)\n",
    "output = output.detach().numpy()\n",
    "output = output.reshape(x_plot.shape[0], x_plot.shape[1])\n",
    "\n",
    "plt.contour(x_plot, y_plot, output, [0.5],\n",
    "                  colors=('k',),\n",
    "                  linewidths=(3,))\n",
    "plot(X0, X1)\n"
   ]
  },
  {
   "cell_type": "markdown",
   "metadata": {},
   "source": [
    "### Implement your first multi-layer perceptron (MLP) for point cloud classification\n",
    "Now you should notice that your logistic regression model cannot classify the point cloud correctly, and this is as expected :)  \n",
    "Therefore, we now ask you to implement an MLP for the same binary classification task."
   ]
  },
  {
   "cell_type": "code",
   "execution_count": 12,
   "metadata": {},
   "outputs": [],
   "source": [
    "# These are the parameters to be used\n",
    "nInput = 2\n",
    "nOutput = 1\n",
    "nHidden = 16\n",
    "act_fn = nn.ReLU()\n",
    "\n",
    "class MLP(nn.Module):\n",
    "    def __init__(self, nInput, nOutput, nHidden, act_fn):\n",
    "        super().__init__()\n",
    "\n",
    "        # Define the network layers in order.\n",
    "        # Input is 2D (nInput).\n",
    "        # Output is a single value (nOutput).\n",
    "        # Multiple linear layers each followed by a ReLU non-linearity (apart from the last).\n",
    "        #########################################################################\n",
    "        # TODO: add a two-layer MLP, inside the `nn.Sequential` call.\n",
    "        # Input is 2D.\n",
    "        # Output is a single value.\n",
    "\n",
    "        # Hint: unlike logistic regression where you need only one nn.Linear layer, \n",
    "        # here you will have two nn.Linear layers. After the first layer, we \n",
    "        # apply a ReLU activation function. The output is then passed to another \n",
    "        # linear layer. Note that you should use `nHidden` below as the hidden dimension \n",
    "        # of your linear layers.\n",
    "        #########################################################################\n",
    "        self.model = nn.Sequential(\n",
    "            nn.Linear(nInput, nHidden),\n",
    "            act_fn,\n",
    "            nn.Linear(nHidden, nOutput)\n",
    "        )\n",
    "        \n",
    "    def forward(self, batch):\n",
    "        # Process batch using the defined model.\n",
    "        x = self.model(batch)\n",
    "        # Final sigmoid activation to obtain a probability.\n",
    "        return torch.sigmoid(x)\n"
   ]
  },
  {
   "cell_type": "markdown",
   "metadata": {},
   "source": [
    "Run below again!"
   ]
  },
  {
   "cell_type": "code",
   "execution_count": 14,
   "metadata": {},
   "outputs": [
    {
     "name": "stdout",
     "output_type": "stream",
     "text": [
      "[Epoch 01] Loss: 6.3840\n",
      "[Epoch 02] Loss: 4.8089\n",
      "[Epoch 03] Loss: 4.5503\n",
      "[Epoch 04] Loss: 4.0335\n",
      "[Epoch 05] Loss: 3.7884\n",
      "[Epoch 06] Loss: 3.8250\n",
      "[Epoch 07] Loss: 4.3789\n",
      "[Epoch 08] Loss: 3.9879\n",
      "[Epoch 09] Loss: 3.5787\n",
      "[Epoch 10] Loss: 3.5200\n",
      "[Epoch 11] Loss: 3.7105\n",
      "[Epoch 12] Loss: 4.1515\n",
      "[Epoch 13] Loss: 4.3130\n",
      "[Epoch 14] Loss: 3.6660\n",
      "[Epoch 15] Loss: 3.8262\n",
      "[Epoch 16] Loss: 3.5685\n",
      "[Epoch 17] Loss: 3.9720\n",
      "[Epoch 18] Loss: 3.6067\n",
      "[Epoch 19] Loss: 3.2211\n",
      "[Epoch 20] Loss: 3.4407\n",
      "[Epoch 21] Loss: 3.2141\n",
      "[Epoch 22] Loss: 3.0167\n",
      "[Epoch 23] Loss: 2.8150\n",
      "[Epoch 24] Loss: 2.7676\n",
      "[Epoch 25] Loss: 2.5309\n",
      "[Epoch 26] Loss: 2.3706\n",
      "[Epoch 27] Loss: 2.3867\n",
      "[Epoch 28] Loss: 2.0354\n",
      "[Epoch 29] Loss: 1.6238\n",
      "[Epoch 30] Loss: 1.4293\n",
      "[Epoch 31] Loss: 1.8073\n",
      "[Epoch 32] Loss: 1.6534\n",
      "[Epoch 33] Loss: 1.0229\n",
      "[Epoch 34] Loss: 0.9858\n",
      "[Epoch 35] Loss: 1.0529\n",
      "[Epoch 36] Loss: 0.8851\n",
      "[Epoch 37] Loss: 0.6394\n",
      "[Epoch 38] Loss: 0.8075\n",
      "[Epoch 39] Loss: 1.0802\n",
      "[Epoch 40] Loss: 0.9433\n",
      "[Epoch 41] Loss: 0.6746\n",
      "[Epoch 42] Loss: 0.6938\n",
      "[Epoch 43] Loss: 0.5046\n",
      "[Epoch 44] Loss: 0.5488\n",
      "[Epoch 45] Loss: 0.7208\n",
      "[Epoch 46] Loss: 0.6175\n",
      "[Epoch 47] Loss: 0.4301\n",
      "[Epoch 48] Loss: 0.3669\n",
      "[Epoch 49] Loss: 0.3826\n",
      "[Epoch 50] Loss: 0.4094\n",
      "[Epoch 51] Loss: 0.3489\n",
      "[Epoch 52] Loss: 0.4224\n",
      "[Epoch 53] Loss: 0.3357\n",
      "[Epoch 54] Loss: 0.5835\n",
      "[Epoch 55] Loss: 0.5482\n",
      "[Epoch 56] Loss: 0.4558\n",
      "[Epoch 57] Loss: 0.6399\n",
      "[Epoch 58] Loss: 0.3177\n",
      "[Epoch 59] Loss: 0.3120\n",
      "[Epoch 60] Loss: 0.3279\n",
      "[Epoch 61] Loss: 0.2718\n",
      "[Epoch 62] Loss: 0.2858\n",
      "[Epoch 63] Loss: 0.2793\n",
      "[Epoch 64] Loss: 0.2188\n",
      "[Epoch 65] Loss: 0.2190\n",
      "[Epoch 66] Loss: 0.2734\n",
      "[Epoch 67] Loss: 0.2919\n",
      "[Epoch 68] Loss: 0.2155\n",
      "[Epoch 69] Loss: 0.1891\n",
      "[Epoch 70] Loss: 0.2276\n",
      "[Epoch 71] Loss: 0.1911\n",
      "[Epoch 72] Loss: 0.2327\n",
      "[Epoch 73] Loss: 0.1948\n",
      "[Epoch 74] Loss: 0.4859\n",
      "[Epoch 75] Loss: 0.2567\n",
      "[Epoch 76] Loss: 0.2151\n",
      "[Epoch 77] Loss: 0.2316\n",
      "[Epoch 78] Loss: 0.1615\n",
      "[Epoch 79] Loss: 0.1624\n",
      "[Epoch 80] Loss: 0.1962\n",
      "[Epoch 81] Loss: 0.4465\n",
      "[Epoch 82] Loss: 0.2424\n",
      "[Epoch 83] Loss: 0.3450\n",
      "[Epoch 84] Loss: 0.3019\n",
      "[Epoch 85] Loss: 0.6650\n",
      "[Epoch 86] Loss: 0.7961\n",
      "[Epoch 87] Loss: 0.9480\n",
      "[Epoch 88] Loss: 0.6922\n",
      "[Epoch 89] Loss: 0.5832\n",
      "[Epoch 90] Loss: 0.2089\n",
      "[Epoch 91] Loss: 0.1660\n",
      "[Epoch 92] Loss: 0.1593\n",
      "[Epoch 93] Loss: 0.1257\n",
      "[Epoch 94] Loss: 0.1458\n",
      "[Epoch 95] Loss: 0.1587\n",
      "[Epoch 96] Loss: 0.1617\n",
      "[Epoch 97] Loss: 0.1730\n",
      "[Epoch 98] Loss: 0.1544\n",
      "[Epoch 99] Loss: 0.1477\n",
      "[Epoch 100] Loss: 0.1545\n",
      "[Epoch 101] Loss: 0.1659\n",
      "[Epoch 102] Loss: 0.1201\n",
      "[Epoch 103] Loss: 0.1029\n",
      "[Epoch 104] Loss: 0.0999\n",
      "[Epoch 105] Loss: 0.0916\n",
      "[Epoch 106] Loss: 0.1372\n",
      "[Epoch 107] Loss: 0.0983\n",
      "[Epoch 108] Loss: 0.1172\n",
      "[Epoch 109] Loss: 0.0981\n",
      "[Epoch 110] Loss: 0.1157\n",
      "[Epoch 111] Loss: 0.1226\n",
      "[Epoch 112] Loss: 0.0876\n",
      "[Epoch 113] Loss: 0.0879\n",
      "[Epoch 114] Loss: 0.1280\n",
      "[Epoch 115] Loss: 0.1029\n",
      "[Epoch 116] Loss: 0.0994\n",
      "[Epoch 117] Loss: 0.0948\n",
      "[Epoch 118] Loss: 0.0877\n",
      "[Epoch 119] Loss: 0.0967\n",
      "[Epoch 120] Loss: 0.0855\n",
      "[Epoch 121] Loss: 0.0866\n",
      "[Epoch 122] Loss: 0.0790\n",
      "[Epoch 123] Loss: 0.0699\n",
      "[Epoch 124] Loss: 0.0788\n",
      "[Epoch 125] Loss: 0.0685\n",
      "[Epoch 126] Loss: 0.0766\n",
      "[Epoch 127] Loss: 0.0772\n",
      "[Epoch 128] Loss: 0.0830\n",
      "[Epoch 129] Loss: 0.0797\n",
      "[Epoch 130] Loss: 0.0700\n",
      "[Epoch 131] Loss: 0.0789\n",
      "[Epoch 132] Loss: 0.0652\n",
      "[Epoch 133] Loss: 0.0774\n",
      "[Epoch 134] Loss: 0.0818\n",
      "[Epoch 135] Loss: 0.0599\n",
      "[Epoch 136] Loss: 0.0722\n",
      "[Epoch 137] Loss: 0.0727\n",
      "[Epoch 138] Loss: 0.0610\n",
      "[Epoch 139] Loss: 0.0709\n",
      "[Epoch 140] Loss: 0.0718\n",
      "[Epoch 141] Loss: 0.1066\n",
      "[Epoch 142] Loss: 0.0843\n",
      "[Epoch 143] Loss: 0.0722\n",
      "[Epoch 144] Loss: 0.0976\n",
      "[Epoch 145] Loss: 0.0955\n",
      "[Epoch 146] Loss: 0.1364\n",
      "[Epoch 147] Loss: 0.5374\n",
      "[Epoch 148] Loss: 0.5232\n",
      "[Epoch 149] Loss: 0.1368\n",
      "[Epoch 150] Loss: 0.1543\n",
      "[Epoch 151] Loss: 0.2300\n",
      "[Epoch 152] Loss: 0.1849\n",
      "[Epoch 153] Loss: 0.3285\n",
      "[Epoch 154] Loss: 0.2487\n",
      "[Epoch 155] Loss: 0.2419\n",
      "[Epoch 156] Loss: 0.1529\n",
      "[Epoch 157] Loss: 0.2148\n",
      "[Epoch 158] Loss: 0.1172\n",
      "[Epoch 159] Loss: 0.0609\n",
      "[Epoch 160] Loss: 0.0675\n",
      "[Epoch 161] Loss: 0.0574\n",
      "[Epoch 162] Loss: 0.0743\n",
      "[Epoch 163] Loss: 0.0852\n",
      "[Epoch 164] Loss: 0.0713\n",
      "[Epoch 165] Loss: 0.0650\n",
      "[Epoch 166] Loss: 0.0622\n",
      "[Epoch 167] Loss: 0.0518\n",
      "[Epoch 168] Loss: 0.0547\n",
      "[Epoch 169] Loss: 0.0672\n",
      "[Epoch 170] Loss: 0.0537\n",
      "[Epoch 171] Loss: 0.0679\n",
      "[Epoch 172] Loss: 0.0504\n",
      "[Epoch 173] Loss: 0.0590\n",
      "[Epoch 174] Loss: 0.0545\n",
      "[Epoch 175] Loss: 0.0445\n",
      "[Epoch 176] Loss: 0.0542\n",
      "[Epoch 177] Loss: 0.0679\n",
      "[Epoch 178] Loss: 0.0657\n",
      "[Epoch 179] Loss: 0.0486\n",
      "[Epoch 180] Loss: 0.0811\n",
      "[Epoch 181] Loss: 0.0638\n",
      "[Epoch 182] Loss: 0.0493\n",
      "[Epoch 183] Loss: 0.0625\n",
      "[Epoch 184] Loss: 0.0501\n",
      "[Epoch 185] Loss: 0.0402\n",
      "[Epoch 186] Loss: 0.0486\n",
      "[Epoch 187] Loss: 0.0552\n",
      "[Epoch 188] Loss: 0.0677\n",
      "[Epoch 189] Loss: 0.0512\n",
      "[Epoch 190] Loss: 0.0408\n",
      "[Epoch 191] Loss: 0.0371\n",
      "[Epoch 192] Loss: 0.0371\n",
      "[Epoch 193] Loss: 0.0476\n",
      "[Epoch 194] Loss: 0.0391\n",
      "[Epoch 195] Loss: 0.0410\n",
      "[Epoch 196] Loss: 0.0373\n",
      "[Epoch 197] Loss: 0.0380\n",
      "[Epoch 198] Loss: 0.0405\n",
      "[Epoch 199] Loss: 0.0407\n",
      "[Epoch 200] Loss: 0.0509\n"
     ]
    }
   ],
   "source": [
    "NUM_EPOCHS = 200\n",
    "\n",
    "# create the network.\n",
    "net = MLP(nInput, nOutput, nHidden, act_fn)\n",
    "\n",
    "# create the optimizer.\n",
    "optimizer = Adam(net.parameters(), lr=0.1)\n",
    "\n",
    "best_accuracy = 0\n",
    "for epoch_idx in range(NUM_EPOCHS):\n",
    "    loss = train(net, optimizer, train_dataloader, epoch_idx)\n",
    "    print('[Epoch %02d] Loss: %.4f' % (epoch_idx + 1, loss))"
   ]
  },
  {
   "cell_type": "markdown",
   "metadata": {},
   "source": [
    "Again plot your result. You should see that the decision boundary can clearly separate the point clouds.\n"
   ]
  },
  {
   "cell_type": "code",
   "execution_count": 15,
   "metadata": {},
   "outputs": [
    {
     "data": {
      "image/png": "[encoded data removed]",
      "text/plain": [
       "<Figure size 432x288 with 1 Axes>"
      ]
     },
     "metadata": {
      "needs_background": "light"
     },
     "output_type": "display_data"
    },
    {
     "data": {
      "text/plain": [
       "<Figure size 432x288 with 0 Axes>"
      ]
     },
     "metadata": {},
     "output_type": "display_data"
    }
   ],
   "source": [
    "p = np.linspace(-0.5, 0.5, 500)\n",
    "x_plot, y_plot = np.meshgrid(p, p)\n",
    "X_plot = np.stack((x_plot, y_plot), axis=2).reshape(-1, 2)\n",
    "X_plot = torch.from_numpy(X_plot).float()\n",
    "output = net(X_plot)\n",
    "output = output.detach().numpy()\n",
    "output = output.reshape(x_plot.shape[0], x_plot.shape[1])\n",
    "\n",
    "plt.contour(x_plot, y_plot, output, [0.5],\n",
    "                  colors=('k',),\n",
    "                  linewidths=(3,))\n",
    "plot(X0, X1)"
   ]
  },
  {
   "cell_type": "markdown",
   "metadata": {},
   "source": [
    "When you are done, move forward to `image_classification.ipynb`."
   ]
  },
  {
   "cell_type": "markdown",
   "metadata": {},
   "source": []
  }
 ],
 "metadata": {
  "kernelspec": {
   "display_name": "Python 3.8.13 ('CV')",
   "language": "python",
   "name": "python3"
  },
  "language_info": {
   "codemirror_mode": {
    "name": "ipython",
    "version": 3
   },
   "file_extension": ".py",
   "mimetype": "text/x-python",
   "name": "python",
   "nbconvert_exporter": "python",
   "pygments_lexer": "ipython3",
   "version": "3.8.13"
  },
  "vscode": {
   "interpreter": {
    "hash": "72a02c255a2d71d7e17609b23a9b4463b90766e697dc578686378fb0b10f72ae"
   }
  }
 },
 "nbformat": 4,
 "nbformat_minor": 4
}
